{
 "cells": [
  {
   "cell_type": "markdown",
   "metadata": {
    "id": "raUKrVPW0SO1"
   },
   "source": [
    "# Regularization in Deep Neural Networks"
   ]
  },
  {
   "cell_type": "markdown",
   "metadata": {
    "id": "e-Nc7mFSVEiU"
   },
   "source": [
    "## Exercise 2.1: Text Classficiation with Tensorflow and Keras\n",
    "\n",
    "In this first exercise we will develop a 3 layers Neural Network to perfrom classification.\n",
    "\n",
    "Let's start importing the libraries we will need and setting a couple of environmental variables.\n"
   ]
  },
  {
   "cell_type": "code",
   "execution_count": null,
   "metadata": {
    "id": "bWn9FzneVqJo"
   },
   "outputs": [],
   "source": [
    "import matplotlib as mpl\n",
    "import matplotlib.pyplot as plt\n",
    "import numpy as np\n",
    "import os\n",
    "import pandas as pd\n",
    "import sklearn\n",
    "import sys\n",
    "import tensorflow as tf\n",
    "from tensorflow import keras  # tf.keras\n",
    "import tensorflow_datasets as tfds\n",
    "import time\n",
    "\n",
    "import logging\n",
    "logging.disable(logging.WARNING)\n",
    "os.environ[\"TF_CPP_MIN_LOG_LEVEL\"] = \"3\" \n",
    "\n",
    "tf.random.set_seed(42)\n",
    "# os.environ['TF_DETERMINISTIC_OPS']='1'"
   ]
  },
  {
   "cell_type": "markdown",
   "metadata": {
    "id": "LT2HMYDEXcx0"
   },
   "source": [
    "### Load Data: AG News Subset\n",
    "\n",
    "We use the AG News Subset that is available in Tensorflow Dataset. The AG's news topic classification dataset is constructed by choosing the 4 largest topic classes from a larger news corups. The total number of training samples is 120,000 and testing 7,600. Each class contains 30,000 training samples and 1,900 testing samples. Each sample contains both the title and an excerpt of the article, but in this exercise we will use only the excerpt as input.\n",
    "\n",
    "We will split the training set into two 90%-10% splits in order to have a validation set."
   ]
  },
  {
   "cell_type": "code",
   "execution_count": null,
   "metadata": {
    "colab": {
     "base_uri": "https://localhost:8080/",
     "height": 322,
     "referenced_widgets": [
      "f18626ec8a544a11b6082ac165c6ae5a",
      "03de3f8a728b499cb4995ed549bfb5c1",
      "b471a94732774b1c9fbb5424c97586d5",
      "c3ab906e47a147cd8bb98126509d299c",
      "4a42ed23aca544138ebae835e80a979c",
      "44cbc46c3931499692ea49351bafee85",
      "bb7aef0b52f54bcf846c77a5dfa39444",
      "04096a99372f418593105aec6035b1fc",
      "8eed9bf82e6146fe817220e37b6a0102",
      "5d0a72dc6b4a4282972567573625c508",
      "b89012a0ee614b56aa65d45b56ff8247",
      "909864923de1420198a5b06e467fb014",
      "25c66373cbd14db39f112939de2db3a0",
      "e7dc0298d02b414c9dc4bf3e8b77165a",
      "9cda5e427c514132b04573e1d4d9787f",
      "a37f020c7b3a45e5ac5172dd7f7baec8",
      "6e359d730e4b42e991f043617fd6e683",
      "e69f17b9f00a44a9843609e7a4db545b",
      "ac400b330ab24fe1a00141061c5f2e8c",
      "c3b3bdaa667f477b9ed533bb73f9bd94",
      "e8353c52a2d54bf580617d31973001fc",
      "570a4efe44d943a8877127ab8e357ff0",
      "a24c109af0b94bbfb9422fa4ada00ef1",
      "99e8e7da101c47eea04c390367faf4d3",
      "87d76cec9bc7469e8665ed0300a1197e",
      "cda12a050211425398b968518cb35eef",
      "3ba5ce44db1748bb94523cc2cf71f317",
      "4f2aa4f03b2245c3af74fa117437c1ee",
      "1a006d3d18fc4780916bbb50ca8280f4",
      "8b0066720747481f82e19290c76e25fe",
      "d7b23a8284e9453f815f89209d74fb89",
      "b8e0a23ed6bf4411873b8edc1f5aaeee",
      "1ffc0415bc89483f9679d66e092aa916",
      "221168ec2a294d2a97c26cf08f9931b7",
      "aa38c8069fc340df8ea2e64224656fe8",
      "ae9a0d6e90e14851afabd19028cee435",
      "490ef05894254b87998de8104ea4607a",
      "0b14d1f102194fa1bf5254a99d991a29",
      "35da004ab8134712a043b632b01f2bc4",
      "ad7abc7a6a804f83b71f1513990b9903",
      "9f0d5330e9254fbcb30bd1792760715d",
      "3b40c4d3ce764dccbf7b6b4847888096",
      "64ebbfeca6ef4af3a56b8fa445357db7",
      "d4aaa5d1b96c432282ac4d2014ddedbe",
      "2c9a0c4ab54f4309a6173114f383d244",
      "b440b2fd7eca460db3df50802cfef9c9",
      "5fcf907ab7f94cdab85842f12020eade",
      "68a67414ddd14c52afecafa0b56acf16",
      "8a81944518be424aa73f639e957462e5",
      "ea34f82cf207497098739c5cb7e1df87",
      "ed463f2c0d5a4379a3dc7919c121af36",
      "a7b9b6a20c42402fa4d1831bd4f76339",
      "3c40e5f2facf480ca99447ea201736b0",
      "01ca6cc0ece14334991860cdd3842825",
      "fef5a9d6a6e24e33a52701bba2d85369",
      "597e830255b6481da87100279a118ea1",
      "123b6d597b72486eb458b247303bba61",
      "91271271711a47d9a60ee1dcf93a41fd",
      "3d77a4bb8c4744dea672a6bf2e934575",
      "2fe6740076884ddaa61e2dcd7fa769c4",
      "17fd05588dd74bf3ac40dab95e546350",
      "cdc64fe644f2449bbd93e448e7016107",
      "81ba7c7e2ec2473f873e7c23b739ae29",
      "f6ab8b55de4443ebb332f7477c4e5f16",
      "89917926e69b4e1bbad17d54ea722e65",
      "acbe17a497ea4227b677466d631d0ae1",
      "10bb733806414d059a59443432b8117f",
      "3a2c56c43bae4da9a42f0283282bc974",
      "56cce75c6c6641128fc2966d594319f2",
      "8e25830b20424c5ab7edd263f591245d",
      "f98b79b1601549e48f84c6716e29d570",
      "61ee69512ad343bda82950b14259c593",
      "1e8b8b440d084d1f9503d325a723a6b1",
      "1426f2abf2cb4540b19150ba3fb2c140",
      "cc133ff92f384260bee7c87950f663fc",
      "ffe89142fb4c473a9ab5095eadad85f0",
      "42e39bf3515f42a893f71877de0f1966"
     ]
    },
    "id": "d8xZASzs26zD",
    "outputId": "b73395e0-e353-4cf2-e9e9-37791304d61f"
   },
   "outputs": [
    {
     "name": "stdout",
     "output_type": "stream",
     "text": [
      "\u001b[1mDownloading and preparing dataset ag_news_subset/1.0.0 (download: 11.24 MiB, generated: 35.79 MiB, total: 47.03 MiB) to /root/tensorflow_datasets/ag_news_subset/1.0.0...\u001b[0m\n"
     ]
    },
    {
     "data": {
      "application/vnd.jupyter.widget-view+json": {
       "model_id": "f18626ec8a544a11b6082ac165c6ae5a",
       "version_major": 2,
       "version_minor": 0
      },
      "text/plain": [
       "Dl Completed...: 0 url [00:00, ? url/s]"
      ]
     },
     "metadata": {},
     "output_type": "display_data"
    },
    {
     "data": {
      "application/vnd.jupyter.widget-view+json": {
       "model_id": "909864923de1420198a5b06e467fb014",
       "version_major": 2,
       "version_minor": 0
      },
      "text/plain": [
       "Dl Size...: 0 MiB [00:00, ? MiB/s]"
      ]
     },
     "metadata": {},
     "output_type": "display_data"
    },
    {
     "data": {
      "application/vnd.jupyter.widget-view+json": {
       "model_id": "a24c109af0b94bbfb9422fa4ada00ef1",
       "version_major": 2,
       "version_minor": 0
      },
      "text/plain": [
       "Extraction completed...: 0 file [00:00, ? file/s]"
      ]
     },
     "metadata": {},
     "output_type": "display_data"
    },
    {
     "name": "stdout",
     "output_type": "stream",
     "text": [
      "\n",
      "\n",
      "\n"
     ]
    },
    {
     "data": {
      "application/vnd.jupyter.widget-view+json": {
       "model_id": "221168ec2a294d2a97c26cf08f9931b7",
       "version_major": 2,
       "version_minor": 0
      },
      "text/plain": [
       "0 examples [00:00, ? examples/s]"
      ]
     },
     "metadata": {},
     "output_type": "display_data"
    },
    {
     "name": "stdout",
     "output_type": "stream",
     "text": [
      "Shuffling and writing examples to /root/tensorflow_datasets/ag_news_subset/1.0.0.incompleteMYYVCW/ag_news_subset-train.tfrecord\n"
     ]
    },
    {
     "data": {
      "application/vnd.jupyter.widget-view+json": {
       "model_id": "2c9a0c4ab54f4309a6173114f383d244",
       "version_major": 2,
       "version_minor": 0
      },
      "text/plain": [
       "  0%|          | 0/120000 [00:00<?, ? examples/s]"
      ]
     },
     "metadata": {},
     "output_type": "display_data"
    },
    {
     "data": {
      "application/vnd.jupyter.widget-view+json": {
       "model_id": "597e830255b6481da87100279a118ea1",
       "version_major": 2,
       "version_minor": 0
      },
      "text/plain": [
       "0 examples [00:00, ? examples/s]"
      ]
     },
     "metadata": {},
     "output_type": "display_data"
    },
    {
     "name": "stdout",
     "output_type": "stream",
     "text": [
      "Shuffling and writing examples to /root/tensorflow_datasets/ag_news_subset/1.0.0.incompleteMYYVCW/ag_news_subset-test.tfrecord\n"
     ]
    },
    {
     "data": {
      "application/vnd.jupyter.widget-view+json": {
       "model_id": "10bb733806414d059a59443432b8117f",
       "version_major": 2,
       "version_minor": 0
      },
      "text/plain": [
       "  0%|          | 0/7600 [00:00<?, ? examples/s]"
      ]
     },
     "metadata": {},
     "output_type": "display_data"
    },
    {
     "name": "stdout",
     "output_type": "stream",
     "text": [
      "\u001b[1mDataset ag_news_subset downloaded and prepared to /root/tensorflow_datasets/ag_news_subset/1.0.0. Subsequent calls will reuse this data.\u001b[0m\n"
     ]
    }
   ],
   "source": [
    "### NOTE ### \n",
    "# running this cell might yield download-related errors.\n",
    "# just repeating the execution a couple of times should solve the error.\n",
    "\n",
    "train_ds, valid_ds, test_ds = tfds.load('ag_news_subset',\n",
    "                                        as_supervised=True, # return a set of (text, label) tuples \n",
    "                                        split=['train[:90%]', 'train[-10%:]', 'test'],\n",
    "                                        batch_size=-1)  \n",
    "                                        # ^ using batch_size=-1 returns Tensors instead of Dataset objects"
   ]
  },
  {
   "cell_type": "code",
   "execution_count": null,
   "metadata": {
    "id": "BYkXCTv3NrvC"
   },
   "outputs": [],
   "source": [
    "# Tensors have two elements, data and labels; let's split them\n",
    "# so we can transform the data\n",
    "X_train, y_train = train_ds\n",
    "X_valid, y_valid = valid_ds\n",
    "X_test, y_test = test_ds"
   ]
  },
  {
   "cell_type": "markdown",
   "metadata": {
    "id": "8prUBtqq8JW7"
   },
   "source": [
    "The AG News Subset dataset consists in news articles, each one composed by a sequence of words. In order to encode each article in a single tensor with a fixed number of elements, we will use multi-hot encoding. For testing purposes, we will only consider the first 10,000  most common words. Multi-hot-encoding our lists means turning them into vectors of 0s and 1s. Concretely, this would mean for instance turning the sequence [3, 5] into a 10,000-dimensional vector that would be all-zeros except for indices 3 and 5, which would be ones. The obtained input representation indicates which words are present (at least one time) in the sentence."
   ]
  },
  {
   "cell_type": "code",
   "execution_count": null,
   "metadata": {
    "id": "Brt087tDIDpe"
   },
   "outputs": [],
   "source": [
    "num_words = 1000\n",
    "vectorize_layer = tf.keras.layers.TextVectorization(\n",
    " max_tokens=num_words,\n",
    " standardize=\"lower_and_strip_punctuation\",\n",
    " split=\"whitespace\",\n",
    " output_mode='multi_hot',\n",
    " pad_to_max_tokens=True)\n",
    "\n",
    "vectorize_layer.adapt(X_train)"
   ]
  },
  {
   "cell_type": "code",
   "execution_count": null,
   "metadata": {
    "id": "seuFLH2lNiDT"
   },
   "outputs": [],
   "source": [
    "X_train = vectorize_layer(X_train)\n",
    "X_valid = vectorize_layer(X_valid)\n",
    "X_test  = vectorize_layer(X_test)"
   ]
  },
  {
   "cell_type": "markdown",
   "metadata": {
    "id": "jGUg8TexZMNf"
   },
   "source": [
    "### Define the model:\n",
    "\n",
    "Let's build a Sequential model (`keras.models.Sequential`) and add four layers to it by calling its `add()` method:\n",
    "\n",
    "\n",
    "*   a input layer (`tf.keras.Input`) that is the first layer in your model. With this layer you should specify the `input_shape` argument, leaving out the batch size: `(num_words,)`;\n",
    "*  a Dense layer (`keras.layers.Dense`) with 16 neurons, and the \"relu\" activation function;\n",
    "* another Dense layer with 16 neurons, also with the \"relu\" activation function;\n",
    "* a final Dense layer with 4 output neurons, and with the \"softmax\" activation (since we considering a classification task with four classes)."
   ]
  },
  {
   "cell_type": "code",
   "execution_count": null,
   "metadata": {
    "id": "OaoEISyaZL56"
   },
   "outputs": [],
   "source": [
    "model = keras.models.Sequential()\n",
    "model.add(tf.keras.Input(shape=(num_words,)))\n",
    "model.add(keras.layers.Dense(16, activation=\"relu\"))\n",
    "model.add(keras.layers.Dense(16, activation=\"relu\"))\n",
    "model.add(keras.layers.Dense(4, activation=\"softmax\"))"
   ]
  },
  {
   "cell_type": "markdown",
   "metadata": {
    "id": "fYfxUOQVZljh"
   },
   "source": [
    "Call the model's `summary()` method to check if the model has been built correctly. Also, try using `keras.utils.plot_model()` to save an image of your model's architecture."
   ]
  },
  {
   "cell_type": "code",
   "execution_count": null,
   "metadata": {
    "colab": {
     "base_uri": "https://localhost:8080/"
    },
    "id": "IpGkQl5dZoWq",
    "outputId": "72d034cf-d342-4954-c553-b4fefa54ea9f"
   },
   "outputs": [
    {
     "name": "stdout",
     "output_type": "stream",
     "text": [
      "Model: \"sequential\"\n",
      "_________________________________________________________________\n",
      " Layer (type)                Output Shape              Param #   \n",
      "=================================================================\n",
      " dense (Dense)               (None, 16)                16016     \n",
      "                                                                 \n",
      " dense_1 (Dense)             (None, 16)                272       \n",
      "                                                                 \n",
      " dense_2 (Dense)             (None, 4)                 68        \n",
      "                                                                 \n",
      "=================================================================\n",
      "Total params: 16,356\n",
      "Trainable params: 16,356\n",
      "Non-trainable params: 0\n",
      "_________________________________________________________________\n"
     ]
    }
   ],
   "source": [
    "model.summary()"
   ]
  },
  {
   "cell_type": "code",
   "execution_count": null,
   "metadata": {
    "colab": {
     "base_uri": "https://localhost:8080/",
     "height": 422
    },
    "id": "b1NbkrXRZwOA",
    "outputId": "42e23d51-68f8-430e-afa5-79c68597939f"
   },
   "outputs": [
    {
     "data": {
      "image/png": "[encoded data removed]",
      "text/plain": [
       "<IPython.core.display.Image object>"
      ]
     },
     "execution_count": 9,
     "metadata": {},
     "output_type": "execute_result"
    }
   ],
   "source": [
    "keras.utils.plot_model(model, \"my_model.png\", show_shapes=True)"
   ]
  },
  {
   "cell_type": "markdown",
   "metadata": {
    "id": "Mc3xzuA-33WH"
   },
   "source": [
    "As you can see, the first dimension of each layer is not defined (`None`), indeed this dimension in each layer is variable and depends on the batch size."
   ]
  },
  {
   "cell_type": "markdown",
   "metadata": {
    "id": "6FAjFixuHSA_"
   },
   "source": [
    "Instaed of using `add()` method it is also possibile to define the model using the following syntax"
   ]
  },
  {
   "cell_type": "code",
   "execution_count": null,
   "metadata": {
    "colab": {
     "base_uri": "https://localhost:8080/",
     "height": 690
    },
    "id": "yOhr57M9GPHy",
    "outputId": "901c9026-4b7f-4299-f532-34dc24c0b5b8"
   },
   "outputs": [
    {
     "name": "stdout",
     "output_type": "stream",
     "text": [
      "Model: \"sequential_1\"\n",
      "_________________________________________________________________\n",
      " Layer (type)                Output Shape              Param #   \n",
      "=================================================================\n",
      " dense_3 (Dense)             (None, 16)                16016     \n",
      "                                                                 \n",
      " dense_4 (Dense)             (None, 16)                272       \n",
      "                                                                 \n",
      " dense_5 (Dense)             (None, 4)                 68        \n",
      "                                                                 \n",
      "=================================================================\n",
      "Total params: 16,356\n",
      "Trainable params: 16,356\n",
      "Non-trainable params: 0\n",
      "_________________________________________________________________\n"
     ]
    },
    {
     "data": {
      "image/png": "[encoded data removed]",
      "text/plain": [
       "<IPython.core.display.Image object>"
      ]
     },
     "execution_count": 10,
     "metadata": {},
     "output_type": "execute_result"
    }
   ],
   "source": [
    "model = keras.models.Sequential([\n",
    "    tf.keras.Input(shape=(num_words,)),\n",
    "    keras.layers.Dense(16, activation=\"relu\"),\n",
    "    keras.layers.Dense(16, activation=\"relu\"),\n",
    "    keras.layers.Dense(4, activation=\"softmax\")\n",
    "])\n",
    "model.summary()\n",
    "keras.utils.plot_model(model, \"my_model.png\", show_shapes=True)"
   ]
  },
  {
   "cell_type": "markdown",
   "metadata": {
    "id": "2ySdJmzxaSuz"
   },
   "source": [
    "### Optimize the model:\n",
    "\n",
    "After the model has been created, you must call its `compile()` method to specify the loss function and the optimizer to use.\n",
    "\n",
    "Since the model performs a classification task, and we have labels encoded as integers, we use the sparse categorical cross-entropy loss. As optimizer we use Adam.\n",
    "\n",
    "Moreover, you can optionally specify a list of additional metrics that should be measured during training. In this case we specify `metrics=[\"accuracy\"]`."
   ]
  },
  {
   "cell_type": "code",
   "execution_count": null,
   "metadata": {
    "id": "x3bbsY3uaeh5"
   },
   "outputs": [],
   "source": [
    "model.compile(loss=\"sparse_categorical_crossentropy\",\n",
    "              optimizer=keras.optimizers.Adam(learning_rate=1e-4),\n",
    "              metrics=[\"accuracy\"])"
   ]
  },
  {
   "cell_type": "markdown",
   "metadata": {
    "id": "NB9SV0MpaeTg"
   },
   "source": [
    "Now our model is ready to be trained. Call its `fit()` method, passing to it the input features (`X_train`) and the target classes (`y_train`). Set the number of epochs to 20. \n",
    "In order to validate our model we will also pass the validation data by setting `validation_data=(X_valid, y_valid)`. Keras will compute the loss and the additional metrics (the accuracy in this case) on the validation set at the end of each epoch. If the loss on the training set is much lower than the one on the validation set, your model is probably overfitting the training set. Note: the `fit()` method will return a `History` object containing training stats."
   ]
  },
  {
   "cell_type": "code",
   "execution_count": null,
   "metadata": {
    "colab": {
     "base_uri": "https://localhost:8080/"
    },
    "id": "5whx-LU3aoKn",
    "outputId": "d3ae1a82-905f-4146-b016-6d471afee5b7"
   },
   "outputs": [
    {
     "name": "stdout",
     "output_type": "stream",
     "text": [
      "Epoch 1/20\n",
      "3375/3375 [==============================] - 7s 2ms/step - loss: 0.8503 - accuracy: 0.6761 - val_loss: 0.5107 - val_accuracy: 0.8314\n",
      "Epoch 2/20\n",
      "3375/3375 [==============================] - 6s 2ms/step - loss: 0.4583 - accuracy: 0.8449 - val_loss: 0.4452 - val_accuracy: 0.8475\n",
      "Epoch 3/20\n",
      "3375/3375 [==============================] - 6s 2ms/step - loss: 0.4222 - accuracy: 0.8546 - val_loss: 0.4318 - val_accuracy: 0.8507\n",
      "Epoch 4/20\n",
      "3375/3375 [==============================] - 6s 2ms/step - loss: 0.4089 - accuracy: 0.8573 - val_loss: 0.4241 - val_accuracy: 0.8509\n",
      "Epoch 5/20\n",
      "3375/3375 [==============================] - 6s 2ms/step - loss: 0.4012 - accuracy: 0.8590 - val_loss: 0.4210 - val_accuracy: 0.8525\n",
      "Epoch 6/20\n",
      "3375/3375 [==============================] - 8s 2ms/step - loss: 0.3959 - accuracy: 0.8601 - val_loss: 0.4175 - val_accuracy: 0.8531\n",
      "Epoch 7/20\n",
      "3375/3375 [==============================] - 6s 2ms/step - loss: 0.3917 - accuracy: 0.8615 - val_loss: 0.4149 - val_accuracy: 0.8535\n",
      "Epoch 8/20\n",
      "3375/3375 [==============================] - 6s 2ms/step - loss: 0.3882 - accuracy: 0.8617 - val_loss: 0.4132 - val_accuracy: 0.8550\n",
      "Epoch 9/20\n",
      "3375/3375 [==============================] - 6s 2ms/step - loss: 0.3851 - accuracy: 0.8627 - val_loss: 0.4109 - val_accuracy: 0.8540\n",
      "Epoch 10/20\n",
      "3375/3375 [==============================] - 6s 2ms/step - loss: 0.3825 - accuracy: 0.8629 - val_loss: 0.4096 - val_accuracy: 0.8534\n",
      "Epoch 11/20\n",
      "3375/3375 [==============================] - 6s 2ms/step - loss: 0.3799 - accuracy: 0.8637 - val_loss: 0.4081 - val_accuracy: 0.8539\n",
      "Epoch 12/20\n",
      "3375/3375 [==============================] - 6s 2ms/step - loss: 0.3775 - accuracy: 0.8638 - val_loss: 0.4064 - val_accuracy: 0.8543\n",
      "Epoch 13/20\n",
      "3375/3375 [==============================] - 6s 2ms/step - loss: 0.3753 - accuracy: 0.8645 - val_loss: 0.4051 - val_accuracy: 0.8538\n",
      "Epoch 14/20\n",
      "3375/3375 [==============================] - 6s 2ms/step - loss: 0.3731 - accuracy: 0.8649 - val_loss: 0.4053 - val_accuracy: 0.8543\n",
      "Epoch 15/20\n",
      "3375/3375 [==============================] - 6s 2ms/step - loss: 0.3709 - accuracy: 0.8660 - val_loss: 0.4035 - val_accuracy: 0.8553\n",
      "Epoch 16/20\n",
      "3375/3375 [==============================] - 6s 2ms/step - loss: 0.3689 - accuracy: 0.8661 - val_loss: 0.4027 - val_accuracy: 0.8553\n",
      "Epoch 17/20\n",
      "3375/3375 [==============================] - 6s 2ms/step - loss: 0.3669 - accuracy: 0.8668 - val_loss: 0.4011 - val_accuracy: 0.8565\n",
      "Epoch 18/20\n",
      "3375/3375 [==============================] - 6s 2ms/step - loss: 0.3649 - accuracy: 0.8672 - val_loss: 0.4003 - val_accuracy: 0.8554\n",
      "Epoch 19/20\n",
      "3375/3375 [==============================] - 6s 2ms/step - loss: 0.3630 - accuracy: 0.8679 - val_loss: 0.3992 - val_accuracy: 0.8559\n",
      "Epoch 20/20\n",
      "3375/3375 [==============================] - 6s 2ms/step - loss: 0.3612 - accuracy: 0.8684 - val_loss: 0.3993 - val_accuracy: 0.8564\n"
     ]
    }
   ],
   "source": [
    "history = model.fit(X_train, y_train, epochs=20,\n",
    "                    validation_data=(X_valid, y_valid))"
   ]
  },
  {
   "cell_type": "markdown",
   "metadata": {
    "id": "EPxiw8iCADr-"
   },
   "source": [
    "Let's plot the loss and the accuracy trends on both training and validation sets. We define the `plot_learning_acc_and_loss` function because we will reuse it in the next steps."
   ]
  },
  {
   "cell_type": "code",
   "execution_count": null,
   "metadata": {
    "colab": {
     "base_uri": "https://localhost:8080/",
     "height": 320
    },
    "id": "AJg-F7mUa7st",
    "outputId": "39e0bf38-17fb-4acd-d1c0-f9a2ee7ee985"
   },
   "outputs": [
    {
     "data": {
      "image/png": "[encoded data removed]",
      "text/plain": [
       "<Figure size 576x360 with 1 Axes>"
      ]
     },
     "metadata": {
      "needs_background": "light"
     },
     "output_type": "display_data"
    }
   ],
   "source": [
    "def plot_learning_acc_and_loss(history):\n",
    "    pd.DataFrame(history.history).plot(figsize=(8, 5))\n",
    "    plt.grid(True)\n",
    "    plt.show()\n",
    "plot_learning_acc_and_loss(history)"
   ]
  },
  {
   "cell_type": "markdown",
   "metadata": {
    "id": "9O3-sLmxansJ"
   },
   "source": [
    "### Evaluate the model:\n",
    "\n",
    "Now, our model has been optimized on the training set, and as you can see the performance on the validation set in quite similar (so it does not overfit the training data). Let's now evaluate the performance of our model using the test set."
   ]
  },
  {
   "cell_type": "code",
   "execution_count": null,
   "metadata": {
    "colab": {
     "base_uri": "https://localhost:8080/"
    },
    "id": "q-ZvJEcObdyB",
    "outputId": "9aebc854-eba2-4ac7-f18d-071f3abb9a64"
   },
   "outputs": [
    {
     "name": "stdout",
     "output_type": "stream",
     "text": [
      "238/238 [==============================] - 1s 2ms/step - loss: 0.4093 - accuracy: 0.8521\n"
     ]
    },
    {
     "data": {
      "text/plain": [
       "[0.40926671028137207, 0.8521052598953247]"
      ]
     },
     "execution_count": 14,
     "metadata": {},
     "output_type": "execute_result"
    }
   ],
   "source": [
    "model.evaluate(X_test, y_test)"
   ]
  },
  {
   "cell_type": "markdown",
   "metadata": {
    "id": "KTSxlnwrII-n"
   },
   "source": [
    "Explain why it is important to use test and validation, and why it is important to evaluate the model on the test set instead of the validation set. Finally, explain what is the usefulness of the validation set. Insert the discussion in this cell.\n",
    "\n",
    "In order to choose the best hyperparameters, we need to try our model with the validation set. So that we can see whether our model is overfitting the training set or not which is the main reason to use validation set. So validation set is validating our model during the training process. After choosing the best parameters we can test our model with those parameters with an unknown set which is the test set. At the end test set provides us if our model will generalize to a new dataset."
   ]
  },
  {
   "cell_type": "markdown",
   "metadata": {
    "id": "aeGlzKe864Gq"
   },
   "source": [
    "## Exercise 2.2: Overfiting\n",
    "\n",
    "A common problem that occurs when you train a deep neural network is overfittig. Overfitting occurs when you achieve a good fit of your model on the training data, while it does not generalize well on new, unseen data. In other words, the model learned patterns specific to the training data, which are irrelevant in other data.\n",
    "As we have seen in the previous exercise, our model does not overfit the training data. In this exercise, we try to modify the training parameters in order to have a model that overfits.\n",
    "Overfitting can have many causes and usually is a combination of some of them, for instance: too many parameters/ layers, too few training samples, wrong learning rate (usualy too high), etc..\n",
    "\n",
    "In the next cell define a new model (similar to the previuos one) that overfits the training data; then plot the trend of the loss in training and validation set."
   ]
  },
  {
   "cell_type": "code",
   "execution_count": null,
   "metadata": {
    "colab": {
     "base_uri": "https://localhost:8080/"
    },
    "id": "T2B2DFEC8f88",
    "outputId": "b6f46022-4069-498c-8810-09c4edd40ea8"
   },
   "outputs": [
    {
     "name": "stdout",
     "output_type": "stream",
     "text": [
      "Epoch 1/50\n",
      "3375/3375 [==============================] - 7s 2ms/step - loss: 0.4662 - accuracy: 0.8320 - val_loss: 0.4146 - val_accuracy: 0.8521\n",
      "Epoch 2/50\n",
      "3375/3375 [==============================] - 7s 2ms/step - loss: 0.3905 - accuracy: 0.8566 - val_loss: 0.4027 - val_accuracy: 0.8529\n",
      "Epoch 3/50\n",
      "3375/3375 [==============================] - 6s 2ms/step - loss: 0.3635 - accuracy: 0.8668 - val_loss: 0.3922 - val_accuracy: 0.8589\n",
      "Epoch 4/50\n",
      "3375/3375 [==============================] - 6s 2ms/step - loss: 0.3403 - accuracy: 0.8754 - val_loss: 0.3995 - val_accuracy: 0.8547\n",
      "Epoch 5/50\n",
      "3375/3375 [==============================] - 6s 2ms/step - loss: 0.3201 - accuracy: 0.8827 - val_loss: 0.3954 - val_accuracy: 0.8567\n",
      "Epoch 6/50\n",
      "3375/3375 [==============================] - 6s 2ms/step - loss: 0.3019 - accuracy: 0.8899 - val_loss: 0.4033 - val_accuracy: 0.8571\n",
      "Epoch 7/50\n",
      "3375/3375 [==============================] - 6s 2ms/step - loss: 0.2846 - accuracy: 0.8958 - val_loss: 0.4206 - val_accuracy: 0.8508\n",
      "Epoch 8/50\n",
      "3375/3375 [==============================] - 6s 2ms/step - loss: 0.2697 - accuracy: 0.9020 - val_loss: 0.4195 - val_accuracy: 0.8562\n",
      "Epoch 9/50\n",
      "3375/3375 [==============================] - 6s 2ms/step - loss: 0.2556 - accuracy: 0.9070 - val_loss: 0.4418 - val_accuracy: 0.8480\n",
      "Epoch 10/50\n",
      "3375/3375 [==============================] - 6s 2ms/step - loss: 0.2440 - accuracy: 0.9115 - val_loss: 0.4490 - val_accuracy: 0.8537\n",
      "Epoch 11/50\n",
      "3375/3375 [==============================] - 6s 2ms/step - loss: 0.2326 - accuracy: 0.9165 - val_loss: 0.4595 - val_accuracy: 0.8503\n",
      "Epoch 12/50\n",
      "3375/3375 [==============================] - 6s 2ms/step - loss: 0.2230 - accuracy: 0.9194 - val_loss: 0.4757 - val_accuracy: 0.8474\n",
      "Epoch 13/50\n",
      "3375/3375 [==============================] - 6s 2ms/step - loss: 0.2132 - accuracy: 0.9223 - val_loss: 0.5015 - val_accuracy: 0.8483\n",
      "Epoch 14/50\n",
      "3375/3375 [==============================] - 7s 2ms/step - loss: 0.2046 - accuracy: 0.9263 - val_loss: 0.5141 - val_accuracy: 0.8461\n",
      "Epoch 15/50\n",
      "3375/3375 [==============================] - 6s 2ms/step - loss: 0.1967 - accuracy: 0.9290 - val_loss: 0.5288 - val_accuracy: 0.8427\n",
      "Epoch 16/50\n",
      "3375/3375 [==============================] - 7s 2ms/step - loss: 0.1897 - accuracy: 0.9316 - val_loss: 0.5444 - val_accuracy: 0.8411\n",
      "Epoch 17/50\n",
      "3375/3375 [==============================] - 6s 2ms/step - loss: 0.1825 - accuracy: 0.9338 - val_loss: 0.5754 - val_accuracy: 0.8398\n",
      "Epoch 18/50\n",
      "3375/3375 [==============================] - 6s 2ms/step - loss: 0.1760 - accuracy: 0.9364 - val_loss: 0.5897 - val_accuracy: 0.8361\n",
      "Epoch 19/50\n",
      "3375/3375 [==============================] - 6s 2ms/step - loss: 0.1701 - accuracy: 0.9388 - val_loss: 0.6011 - val_accuracy: 0.8367\n",
      "Epoch 20/50\n",
      "3375/3375 [==============================] - 6s 2ms/step - loss: 0.1647 - accuracy: 0.9409 - val_loss: 0.6262 - val_accuracy: 0.8359\n",
      "Epoch 21/50\n",
      "3375/3375 [==============================] - 6s 2ms/step - loss: 0.1588 - accuracy: 0.9438 - val_loss: 0.6468 - val_accuracy: 0.8326\n",
      "Epoch 22/50\n",
      "3375/3375 [==============================] - 6s 2ms/step - loss: 0.1540 - accuracy: 0.9450 - val_loss: 0.6755 - val_accuracy: 0.8324\n",
      "Epoch 23/50\n",
      "3375/3375 [==============================] - 6s 2ms/step - loss: 0.1489 - accuracy: 0.9459 - val_loss: 0.7052 - val_accuracy: 0.8333\n",
      "Epoch 24/50\n",
      "3375/3375 [==============================] - 6s 2ms/step - loss: 0.1450 - accuracy: 0.9482 - val_loss: 0.7222 - val_accuracy: 0.8291\n",
      "Epoch 25/50\n",
      "3375/3375 [==============================] - 6s 2ms/step - loss: 0.1402 - accuracy: 0.9503 - val_loss: 0.7500 - val_accuracy: 0.8299\n",
      "Epoch 26/50\n",
      "3375/3375 [==============================] - 6s 2ms/step - loss: 0.1360 - accuracy: 0.9513 - val_loss: 0.7629 - val_accuracy: 0.8278\n",
      "Epoch 27/50\n",
      "3375/3375 [==============================] - 6s 2ms/step - loss: 0.1323 - accuracy: 0.9530 - val_loss: 0.7934 - val_accuracy: 0.8319\n",
      "Epoch 28/50\n",
      "3375/3375 [==============================] - 6s 2ms/step - loss: 0.1282 - accuracy: 0.9544 - val_loss: 0.8182 - val_accuracy: 0.8314\n",
      "Epoch 29/50\n",
      "3375/3375 [==============================] - 6s 2ms/step - loss: 0.1250 - accuracy: 0.9559 - val_loss: 0.8472 - val_accuracy: 0.8298\n",
      "Epoch 30/50\n",
      "3375/3375 [==============================] - 6s 2ms/step - loss: 0.1223 - accuracy: 0.9569 - val_loss: 0.8620 - val_accuracy: 0.8283\n",
      "Epoch 31/50\n",
      "3375/3375 [==============================] - 6s 2ms/step - loss: 0.1192 - accuracy: 0.9580 - val_loss: 0.8824 - val_accuracy: 0.8286\n",
      "Epoch 32/50\n",
      "3375/3375 [==============================] - 7s 2ms/step - loss: 0.1149 - accuracy: 0.9600 - val_loss: 0.9274 - val_accuracy: 0.8252\n",
      "Epoch 33/50\n",
      "3375/3375 [==============================] - 8s 2ms/step - loss: 0.1125 - accuracy: 0.9604 - val_loss: 0.9456 - val_accuracy: 0.8262\n",
      "Epoch 34/50\n",
      "3375/3375 [==============================] - 6s 2ms/step - loss: 0.1094 - accuracy: 0.9618 - val_loss: 0.9551 - val_accuracy: 0.8266\n",
      "Epoch 35/50\n",
      "3375/3375 [==============================] - 6s 2ms/step - loss: 0.1068 - accuracy: 0.9631 - val_loss: 0.9753 - val_accuracy: 0.8232\n",
      "Epoch 36/50\n",
      "3375/3375 [==============================] - 6s 2ms/step - loss: 0.1039 - accuracy: 0.9637 - val_loss: 1.0309 - val_accuracy: 0.8234\n",
      "Epoch 37/50\n",
      "3375/3375 [==============================] - 6s 2ms/step - loss: 0.1011 - accuracy: 0.9640 - val_loss: 1.0605 - val_accuracy: 0.8214\n",
      "Epoch 38/50\n",
      "3375/3375 [==============================] - 7s 2ms/step - loss: 0.0989 - accuracy: 0.9656 - val_loss: 1.0885 - val_accuracy: 0.8226\n",
      "Epoch 39/50\n",
      "3375/3375 [==============================] - 6s 2ms/step - loss: 0.0979 - accuracy: 0.9654 - val_loss: 1.0868 - val_accuracy: 0.8211\n",
      "Epoch 40/50\n",
      "3375/3375 [==============================] - 6s 2ms/step - loss: 0.0942 - accuracy: 0.9674 - val_loss: 1.1171 - val_accuracy: 0.8240\n",
      "Epoch 41/50\n",
      "3375/3375 [==============================] - 6s 2ms/step - loss: 0.0918 - accuracy: 0.9679 - val_loss: 1.1550 - val_accuracy: 0.8201\n",
      "Epoch 42/50\n",
      "3375/3375 [==============================] - 6s 2ms/step - loss: 0.0899 - accuracy: 0.9687 - val_loss: 1.1851 - val_accuracy: 0.8224\n",
      "Epoch 43/50\n",
      "3375/3375 [==============================] - 6s 2ms/step - loss: 0.0891 - accuracy: 0.9685 - val_loss: 1.2113 - val_accuracy: 0.8227\n",
      "Epoch 44/50\n",
      "3375/3375 [==============================] - 6s 2ms/step - loss: 0.0850 - accuracy: 0.9702 - val_loss: 1.2394 - val_accuracy: 0.8217\n",
      "Epoch 45/50\n",
      "3375/3375 [==============================] - 6s 2ms/step - loss: 0.0848 - accuracy: 0.9701 - val_loss: 1.2569 - val_accuracy: 0.8200\n",
      "Epoch 46/50\n",
      "3375/3375 [==============================] - 6s 2ms/step - loss: 0.0812 - accuracy: 0.9715 - val_loss: 1.2943 - val_accuracy: 0.8213\n",
      "Epoch 47/50\n",
      "3375/3375 [==============================] - 6s 2ms/step - loss: 0.0810 - accuracy: 0.9712 - val_loss: 1.3080 - val_accuracy: 0.8152\n",
      "Epoch 48/50\n",
      "3375/3375 [==============================] - 6s 2ms/step - loss: 0.0797 - accuracy: 0.9721 - val_loss: 1.3425 - val_accuracy: 0.8192\n",
      "Epoch 49/50\n",
      "3375/3375 [==============================] - 6s 2ms/step - loss: 0.0779 - accuracy: 0.9725 - val_loss: 1.3749 - val_accuracy: 0.8216\n",
      "Epoch 50/50\n",
      "3375/3375 [==============================] - 6s 2ms/step - loss: 0.0748 - accuracy: 0.9741 - val_loss: 1.3946 - val_accuracy: 0.8180\n",
      "Model Evaluation\n",
      "238/238 [==============================] - 1s 2ms/step - loss: 1.4095 - accuracy: 0.8184\n"
     ]
    },
    {
     "data": {
      "text/plain": [
       "[1.4094620943069458, 0.8184210658073425]"
      ]
     },
     "execution_count": 15,
     "metadata": {},
     "output_type": "execute_result"
    }
   ],
   "source": [
    "model = keras.models.Sequential([\n",
    "    tf.keras.Input(shape=(num_words,)),\n",
    "    keras.layers.Dense(32, activation=\"relu\"),\n",
    "    keras.layers.Dense(32, activation=\"relu\"),\n",
    "    keras.layers.Dense(4, activation=\"softmax\")\n",
    "])\n",
    "#modify the previuos model in order to obtain a new model that overfits the training data\n",
    "\n",
    "model.compile(loss=\"sparse_categorical_crossentropy\",\n",
    "              optimizer=keras.optimizers.Adam(learning_rate = 1e-3 ),# learning rate\n",
    "              metrics=[\"accuracy\"])\n",
    "\n",
    "history = model.fit(X_train, y_train, epochs= 50 ,# epochs\n",
    "                    validation_data=(X_valid, y_valid))\n",
    "\n",
    "print(\"Model Evaluation\")\n",
    "model.evaluate(X_test, y_test)"
   ]
  },
  {
   "cell_type": "markdown",
   "metadata": {
    "id": "MS0fujEqh_m3"
   },
   "source": [
    "Define the `plot_learning_curves` function that plots only the losses (not the accuracy)."
   ]
  },
  {
   "cell_type": "code",
   "execution_count": null,
   "metadata": {
    "colab": {
     "base_uri": "https://localhost:8080/",
     "height": 336
    },
    "id": "q5EsklC0DZYH",
    "outputId": "2a95a1bd-9aa5-48f5-d7c9-07a44564b991"
   },
   "outputs": [
    {
     "data": {
      "image/png": "[encoded data removed]",
      "text/plain": [
       "<Figure size 576x360 with 1 Axes>"
      ]
     },
     "metadata": {
      "needs_background": "light"
     },
     "output_type": "display_data"
    }
   ],
   "source": [
    "def plot_learning_curves(history):\n",
    "    plt.figure(figsize=(8, 5))\n",
    "    plt.plot(history.epoch,history.history['loss'], label='train loss')\n",
    "    plt.plot(history.epoch,history.history['val_loss'], label='valid loss')\n",
    "    plt.legend()\n",
    "    plt.title('loss')\n",
    "    plt.grid(True)\n",
    "    plt.show()\n",
    "plot_learning_curves(history)"
   ]
  },
  {
   "cell_type": "markdown",
   "metadata": {
    "id": "OW4Kf4fgDfOs"
   },
   "source": [
    "### L1 norm\n",
    "\n",
    "One possible way to solve the overitting issue is by using regularization methods. The two most common regularization methods in Deep Learning are the L1-norm regularization and the L2-norm regularization. Both These techniques are based on limiting the capacity of models, by adding a parameter norm penalty to the objective function $\\mathcal{J}$:\n",
    "$$\n",
    "\\hat{\\mathcal{J}}(\\theta,\\mathbf{X},\\mathbf{y}) = \\mathcal{J}(\\theta,\\mathbf{X},\\mathbf{y}) + \\alpha \\Omega(\\theta)\n",
    "$$\n",
    "where $\\alpha$ is a hyperparameter that weighs the relative contribution of the norm penalty $\\Omega$.\n",
    "Lets start by considering the L1-norm regularization where the regularization term is defined as:\n",
    "$$\n",
    " \\Omega(\\theta)=||\\mathbf{W}||_1=\\sum_i |\\mathbf{w}|\n",
    "$$\n",
    "Let's find the values for the $\\alpha$ parameters that allow to remove the overfitting effect."
   ]
  },
  {
   "cell_type": "code",
   "execution_count": null,
   "metadata": {
    "colab": {
     "base_uri": "https://localhost:8080/",
     "height": 1000
    },
    "id": "QzD8520dDgw3",
    "outputId": "1c496039-afd7-4744-9ab1-54a2c73286e9"
   },
   "outputs": [
    {
     "name": "stdout",
     "output_type": "stream",
     "text": [
      "Epoch 1/50\n",
      "3375/3375 [==============================] - 7s 2ms/step - loss: 0.8326 - accuracy: 0.8123 - val_loss: 0.6851 - val_accuracy: 0.8328\n",
      "Epoch 2/50\n",
      "3375/3375 [==============================] - 7s 2ms/step - loss: 0.6306 - accuracy: 0.8394 - val_loss: 0.5994 - val_accuracy: 0.8424\n",
      "Epoch 3/50\n",
      "3375/3375 [==============================] - 7s 2ms/step - loss: 0.5883 - accuracy: 0.8420 - val_loss: 0.5854 - val_accuracy: 0.8411\n",
      "Epoch 4/50\n",
      "3375/3375 [==============================] - 7s 2ms/step - loss: 0.5782 - accuracy: 0.8425 - val_loss: 0.5872 - val_accuracy: 0.8355\n",
      "Epoch 5/50\n",
      "3375/3375 [==============================] - 7s 2ms/step - loss: 0.5719 - accuracy: 0.8418 - val_loss: 0.5688 - val_accuracy: 0.8411\n",
      "Epoch 6/50\n",
      "3375/3375 [==============================] - 7s 2ms/step - loss: 0.5667 - accuracy: 0.8421 - val_loss: 0.5696 - val_accuracy: 0.8394\n",
      "Epoch 7/50\n",
      "3375/3375 [==============================] - 7s 2ms/step - loss: 0.5619 - accuracy: 0.8434 - val_loss: 0.5731 - val_accuracy: 0.8399\n",
      "Epoch 8/50\n",
      "3375/3375 [==============================] - 7s 2ms/step - loss: 0.5583 - accuracy: 0.8423 - val_loss: 0.5582 - val_accuracy: 0.8454\n",
      "Epoch 9/50\n",
      "3375/3375 [==============================] - 7s 2ms/step - loss: 0.5522 - accuracy: 0.8435 - val_loss: 0.5581 - val_accuracy: 0.8395\n",
      "Epoch 10/50\n",
      "3375/3375 [==============================] - 7s 2ms/step - loss: 0.5488 - accuracy: 0.8430 - val_loss: 0.5588 - val_accuracy: 0.8423\n",
      "Epoch 11/50\n",
      "3375/3375 [==============================] - 7s 2ms/step - loss: 0.5459 - accuracy: 0.8436 - val_loss: 0.5482 - val_accuracy: 0.8409\n",
      "Epoch 12/50\n",
      "3375/3375 [==============================] - 7s 2ms/step - loss: 0.5439 - accuracy: 0.8438 - val_loss: 0.5457 - val_accuracy: 0.8419\n",
      "Epoch 13/50\n",
      "3375/3375 [==============================] - 7s 2ms/step - loss: 0.5427 - accuracy: 0.8435 - val_loss: 0.5409 - val_accuracy: 0.8440\n",
      "Epoch 14/50\n",
      "3375/3375 [==============================] - 7s 2ms/step - loss: 0.5412 - accuracy: 0.8438 - val_loss: 0.5519 - val_accuracy: 0.8369\n",
      "Epoch 15/50\n",
      "3375/3375 [==============================] - 7s 2ms/step - loss: 0.5407 - accuracy: 0.8419 - val_loss: 0.5429 - val_accuracy: 0.8428\n",
      "Epoch 16/50\n",
      "3375/3375 [==============================] - 7s 2ms/step - loss: 0.5401 - accuracy: 0.8428 - val_loss: 0.5428 - val_accuracy: 0.8422\n",
      "Epoch 17/50\n",
      "3375/3375 [==============================] - 7s 2ms/step - loss: 0.5385 - accuracy: 0.8435 - val_loss: 0.5436 - val_accuracy: 0.8446\n",
      "Epoch 18/50\n",
      "3375/3375 [==============================] - 7s 2ms/step - loss: 0.5381 - accuracy: 0.8438 - val_loss: 0.5409 - val_accuracy: 0.8420\n",
      "Epoch 19/50\n",
      "3375/3375 [==============================] - 7s 2ms/step - loss: 0.5380 - accuracy: 0.8430 - val_loss: 0.5396 - val_accuracy: 0.8441\n",
      "Epoch 20/50\n",
      "3375/3375 [==============================] - 7s 2ms/step - loss: 0.5371 - accuracy: 0.8434 - val_loss: 0.5508 - val_accuracy: 0.8394\n",
      "Epoch 21/50\n",
      "3375/3375 [==============================] - 7s 2ms/step - loss: 0.5372 - accuracy: 0.8432 - val_loss: 0.5441 - val_accuracy: 0.8407\n",
      "Epoch 22/50\n",
      "3375/3375 [==============================] - 7s 2ms/step - loss: 0.5371 - accuracy: 0.8430 - val_loss: 0.5459 - val_accuracy: 0.8393\n",
      "Epoch 23/50\n",
      "3375/3375 [==============================] - 7s 2ms/step - loss: 0.5360 - accuracy: 0.8430 - val_loss: 0.5397 - val_accuracy: 0.8419\n",
      "Epoch 24/50\n",
      "3375/3375 [==============================] - 7s 2ms/step - loss: 0.5358 - accuracy: 0.8429 - val_loss: 0.5412 - val_accuracy: 0.8415\n",
      "Epoch 25/50\n",
      "3375/3375 [==============================] - 7s 2ms/step - loss: 0.5357 - accuracy: 0.8439 - val_loss: 0.5359 - val_accuracy: 0.8449\n",
      "Epoch 26/50\n",
      "3375/3375 [==============================] - 7s 2ms/step - loss: 0.5356 - accuracy: 0.8427 - val_loss: 0.5465 - val_accuracy: 0.8401\n",
      "Epoch 27/50\n",
      "3375/3375 [==============================] - 7s 2ms/step - loss: 0.5355 - accuracy: 0.8436 - val_loss: 0.5472 - val_accuracy: 0.8382\n",
      "Epoch 28/50\n",
      "3375/3375 [==============================] - 7s 2ms/step - loss: 0.5357 - accuracy: 0.8435 - val_loss: 0.5406 - val_accuracy: 0.8398\n",
      "Epoch 29/50\n",
      "3375/3375 [==============================] - 7s 2ms/step - loss: 0.5354 - accuracy: 0.8438 - val_loss: 0.5357 - val_accuracy: 0.8454\n",
      "Epoch 30/50\n",
      "3375/3375 [==============================] - 7s 2ms/step - loss: 0.5342 - accuracy: 0.8435 - val_loss: 0.5429 - val_accuracy: 0.8429\n",
      "Epoch 31/50\n",
      "3375/3375 [==============================] - 7s 2ms/step - loss: 0.5351 - accuracy: 0.8435 - val_loss: 0.5532 - val_accuracy: 0.8397\n",
      "Epoch 32/50\n",
      "3375/3375 [==============================] - 7s 2ms/step - loss: 0.5346 - accuracy: 0.8432 - val_loss: 0.5410 - val_accuracy: 0.8400\n",
      "Epoch 33/50\n",
      "3375/3375 [==============================] - 7s 2ms/step - loss: 0.5342 - accuracy: 0.8431 - val_loss: 0.5398 - val_accuracy: 0.8441\n",
      "Epoch 34/50\n",
      "3375/3375 [==============================] - 7s 2ms/step - loss: 0.5338 - accuracy: 0.8434 - val_loss: 0.5452 - val_accuracy: 0.8426\n",
      "Epoch 35/50\n",
      "3375/3375 [==============================] - 7s 2ms/step - loss: 0.5350 - accuracy: 0.8425 - val_loss: 0.5399 - val_accuracy: 0.8418\n",
      "Epoch 36/50\n",
      "3375/3375 [==============================] - 7s 2ms/step - loss: 0.5333 - accuracy: 0.8432 - val_loss: 0.5425 - val_accuracy: 0.8410\n",
      "Epoch 37/50\n",
      "3375/3375 [==============================] - 7s 2ms/step - loss: 0.5333 - accuracy: 0.8427 - val_loss: 0.5558 - val_accuracy: 0.8358\n",
      "Epoch 38/50\n",
      "3375/3375 [==============================] - 7s 2ms/step - loss: 0.5331 - accuracy: 0.8431 - val_loss: 0.5352 - val_accuracy: 0.8447\n",
      "Epoch 39/50\n",
      "3375/3375 [==============================] - 7s 2ms/step - loss: 0.5327 - accuracy: 0.8432 - val_loss: 0.5403 - val_accuracy: 0.8419\n",
      "Epoch 40/50\n",
      "3375/3375 [==============================] - 7s 2ms/step - loss: 0.5328 - accuracy: 0.8430 - val_loss: 0.5357 - val_accuracy: 0.8453\n",
      "Epoch 41/50\n",
      "3375/3375 [==============================] - 7s 2ms/step - loss: 0.5317 - accuracy: 0.8441 - val_loss: 0.5407 - val_accuracy: 0.8407\n",
      "Epoch 42/50\n",
      "3375/3375 [==============================] - 7s 2ms/step - loss: 0.5327 - accuracy: 0.8421 - val_loss: 0.5386 - val_accuracy: 0.8425\n",
      "Epoch 43/50\n",
      "3375/3375 [==============================] - 7s 2ms/step - loss: 0.5327 - accuracy: 0.8438 - val_loss: 0.5421 - val_accuracy: 0.8407\n",
      "Epoch 44/50\n",
      "3375/3375 [==============================] - 7s 2ms/step - loss: 0.5323 - accuracy: 0.8441 - val_loss: 0.5389 - val_accuracy: 0.8404\n",
      "Epoch 45/50\n",
      "3375/3375 [==============================] - 7s 2ms/step - loss: 0.5332 - accuracy: 0.8434 - val_loss: 0.5397 - val_accuracy: 0.8408\n",
      "Epoch 46/50\n",
      "3375/3375 [==============================] - 7s 2ms/step - loss: 0.5320 - accuracy: 0.8432 - val_loss: 0.5409 - val_accuracy: 0.8434\n",
      "Epoch 47/50\n",
      "3375/3375 [==============================] - 7s 2ms/step - loss: 0.5323 - accuracy: 0.8439 - val_loss: 0.5368 - val_accuracy: 0.8435\n",
      "Epoch 48/50\n",
      "3375/3375 [==============================] - 7s 2ms/step - loss: 0.5313 - accuracy: 0.8426 - val_loss: 0.5379 - val_accuracy: 0.8432\n",
      "Epoch 49/50\n",
      "3375/3375 [==============================] - 7s 2ms/step - loss: 0.5318 - accuracy: 0.8433 - val_loss: 0.5396 - val_accuracy: 0.8403\n",
      "Epoch 50/50\n",
      "3375/3375 [==============================] - 7s 2ms/step - loss: 0.5327 - accuracy: 0.8432 - val_loss: 0.5422 - val_accuracy: 0.8376\n",
      "Model Evaluation\n",
      "238/238 [==============================] - 1s 2ms/step - loss: 0.5512 - accuracy: 0.8374\n"
     ]
    },
    {
     "data": {
      "image/png": "[encoded data removed]",
      "text/plain": [
       "<Figure size 576x360 with 1 Axes>"
      ]
     },
     "metadata": {
      "needs_background": "light"
     },
     "output_type": "display_data"
    }
   ],
   "source": [
    "#In Keras is neccesary to add the regularizer by using the attribute kernel_regularizer\n",
    "#to each layer whose weights will be considered in the Omega function.\n",
    "#is it also possibile to consider the bias by using the attribute bias_regularizer \n",
    "#tf.keras.regularizers.l1(alpha) perfroms the L1-norm regularization\n",
    "\n",
    "#copy the model that you previously defined that overfits the \n",
    "#training data, and add the L1-norm regularization. Use a proper value for the\n",
    "#alpha hyper-parameter, that prevents the model from overfitting. The results  \n",
    "#reached by the model in terms of loss and accuracy (in all data sets) should be\n",
    "#comparable with the ones obtained by the initial model defined in Exercise 2.1 \n",
    "\n",
    "\n",
    "model = keras.models.Sequential([\n",
    "    tf.keras.Input(shape=(num_words,)),\n",
    "    keras.layers.Dense(32, activation=\"relu\",kernel_regularizer=tf.keras.regularizers.l1(0.001)),\n",
    "    keras.layers.Dense(32, activation=\"relu\",kernel_regularizer=tf.keras.regularizers.l1(0.001)),\n",
    "    keras.layers.Dense(4, activation=\"softmax\")\n",
    "])\n",
    "\n",
    "\n",
    "model.compile(loss=\"sparse_categorical_crossentropy\",\n",
    "              optimizer=keras.optimizers.Adam(learning_rate=1e-3),#learning rate\n",
    "              metrics=[\"accuracy\"])\n",
    "\n",
    "history = model.fit(X_train, y_train, epochs=50,#epochs\n",
    "                    validation_data=(X_valid, y_valid))\n",
    "\n",
    "print(\"Model Evaluation\")\n",
    "model.evaluate(X_test, y_test)\n",
    "plot_learning_curves(history)"
   ]
  },
  {
   "cell_type": "markdown",
   "metadata": {
    "id": "CgnCGYUvDqbC"
   },
   "source": [
    "### L2-norm\n",
    "\n",
    "L2-norm regularization is also known as weight decay. This strategy drives the weights closer to the origin by adding the regularization term omega which is defined as:\n",
    "$$\n",
    " \\Omega(\\theta)=\\frac{1}{2}||\\mathbf{W}||_2^2\n",
    "$$\n",
    "\n",
    "Let's find the values for the $\\alpha$ parameters that allow removing remove the overfitting effect with L2-norm."
   ]
  },
  {
   "cell_type": "code",
   "execution_count": null,
   "metadata": {
    "colab": {
     "base_uri": "https://localhost:8080/",
     "height": 1000
    },
    "id": "qqNhu350DtJo",
    "outputId": "97a5061f-35ee-430f-827f-877a5f975fe0"
   },
   "outputs": [
    {
     "name": "stdout",
     "output_type": "stream",
     "text": [
      "Epoch 1/50\n",
      "3375/3375 [==============================] - 7s 2ms/step - loss: 0.6272 - accuracy: 0.8163 - val_loss: 0.5737 - val_accuracy: 0.8298\n",
      "Epoch 2/50\n",
      "3375/3375 [==============================] - 6s 2ms/step - loss: 0.5765 - accuracy: 0.8277 - val_loss: 0.5766 - val_accuracy: 0.8300\n",
      "Epoch 3/50\n",
      "3375/3375 [==============================] - 6s 2ms/step - loss: 0.5617 - accuracy: 0.8301 - val_loss: 0.5557 - val_accuracy: 0.8279\n",
      "Epoch 4/50\n",
      "3375/3375 [==============================] - 6s 2ms/step - loss: 0.5552 - accuracy: 0.8310 - val_loss: 0.5481 - val_accuracy: 0.8332\n",
      "Epoch 5/50\n",
      "3375/3375 [==============================] - 6s 2ms/step - loss: 0.5474 - accuracy: 0.8315 - val_loss: 0.5562 - val_accuracy: 0.8265\n",
      "Epoch 6/50\n",
      "3375/3375 [==============================] - 7s 2ms/step - loss: 0.5432 - accuracy: 0.8315 - val_loss: 0.5428 - val_accuracy: 0.8338\n",
      "Epoch 7/50\n",
      "3375/3375 [==============================] - 6s 2ms/step - loss: 0.5418 - accuracy: 0.8324 - val_loss: 0.5514 - val_accuracy: 0.8323\n",
      "Epoch 8/50\n",
      "3375/3375 [==============================] - 6s 2ms/step - loss: 0.5417 - accuracy: 0.8321 - val_loss: 0.5379 - val_accuracy: 0.8374\n",
      "Epoch 9/50\n",
      "3375/3375 [==============================] - 7s 2ms/step - loss: 0.5389 - accuracy: 0.8329 - val_loss: 0.5496 - val_accuracy: 0.8316\n",
      "Epoch 10/50\n",
      "3375/3375 [==============================] - 6s 2ms/step - loss: 0.5404 - accuracy: 0.8325 - val_loss: 0.5689 - val_accuracy: 0.8248\n",
      "Epoch 11/50\n",
      "3375/3375 [==============================] - 6s 2ms/step - loss: 0.5413 - accuracy: 0.8312 - val_loss: 0.5457 - val_accuracy: 0.8309\n",
      "Epoch 12/50\n",
      "3375/3375 [==============================] - 6s 2ms/step - loss: 0.5391 - accuracy: 0.8338 - val_loss: 0.5366 - val_accuracy: 0.8342\n",
      "Epoch 13/50\n",
      "3375/3375 [==============================] - 6s 2ms/step - loss: 0.5409 - accuracy: 0.8318 - val_loss: 0.5335 - val_accuracy: 0.8342\n",
      "Epoch 14/50\n",
      "3375/3375 [==============================] - 6s 2ms/step - loss: 0.5391 - accuracy: 0.8322 - val_loss: 0.5666 - val_accuracy: 0.8218\n",
      "Epoch 15/50\n",
      "3375/3375 [==============================] - 7s 2ms/step - loss: 0.5409 - accuracy: 0.8314 - val_loss: 0.5405 - val_accuracy: 0.8358\n",
      "Epoch 16/50\n",
      "3375/3375 [==============================] - 7s 2ms/step - loss: 0.5386 - accuracy: 0.8331 - val_loss: 0.5397 - val_accuracy: 0.8307\n",
      "Epoch 17/50\n",
      "3375/3375 [==============================] - 7s 2ms/step - loss: 0.5396 - accuracy: 0.8322 - val_loss: 0.5321 - val_accuracy: 0.8382\n",
      "Epoch 18/50\n",
      "3375/3375 [==============================] - 7s 2ms/step - loss: 0.5390 - accuracy: 0.8338 - val_loss: 0.5360 - val_accuracy: 0.8332\n",
      "Epoch 19/50\n",
      "3375/3375 [==============================] - 7s 2ms/step - loss: 0.5400 - accuracy: 0.8319 - val_loss: 0.5382 - val_accuracy: 0.8354\n",
      "Epoch 20/50\n",
      "3375/3375 [==============================] - 6s 2ms/step - loss: 0.5398 - accuracy: 0.8319 - val_loss: 0.5507 - val_accuracy: 0.8292\n",
      "Epoch 21/50\n",
      "3375/3375 [==============================] - 7s 2ms/step - loss: 0.5390 - accuracy: 0.8315 - val_loss: 0.5472 - val_accuracy: 0.8327\n",
      "Epoch 22/50\n",
      "3375/3375 [==============================] - 6s 2ms/step - loss: 0.5404 - accuracy: 0.8323 - val_loss: 0.5469 - val_accuracy: 0.8333\n",
      "Epoch 23/50\n",
      "3375/3375 [==============================] - 6s 2ms/step - loss: 0.5385 - accuracy: 0.8317 - val_loss: 0.5572 - val_accuracy: 0.8257\n",
      "Epoch 24/50\n",
      "3375/3375 [==============================] - 7s 2ms/step - loss: 0.5386 - accuracy: 0.8324 - val_loss: 0.5509 - val_accuracy: 0.8276\n",
      "Epoch 25/50\n",
      "3375/3375 [==============================] - 7s 2ms/step - loss: 0.5396 - accuracy: 0.8334 - val_loss: 0.5325 - val_accuracy: 0.8364\n",
      "Epoch 26/50\n",
      "3375/3375 [==============================] - 6s 2ms/step - loss: 0.5385 - accuracy: 0.8320 - val_loss: 0.5565 - val_accuracy: 0.8235\n",
      "Epoch 27/50\n",
      "3375/3375 [==============================] - 6s 2ms/step - loss: 0.5400 - accuracy: 0.8331 - val_loss: 0.5599 - val_accuracy: 0.8232\n",
      "Epoch 28/50\n",
      "3375/3375 [==============================] - 6s 2ms/step - loss: 0.5413 - accuracy: 0.8319 - val_loss: 0.5438 - val_accuracy: 0.8312\n",
      "Epoch 29/50\n",
      "3375/3375 [==============================] - 6s 2ms/step - loss: 0.5396 - accuracy: 0.8326 - val_loss: 0.5440 - val_accuracy: 0.8351\n",
      "Epoch 30/50\n",
      "3375/3375 [==============================] - 6s 2ms/step - loss: 0.5383 - accuracy: 0.8322 - val_loss: 0.5526 - val_accuracy: 0.8275\n",
      "Epoch 31/50\n",
      "3375/3375 [==============================] - 6s 2ms/step - loss: 0.5403 - accuracy: 0.8327 - val_loss: 0.5479 - val_accuracy: 0.8336\n",
      "Epoch 32/50\n",
      "3375/3375 [==============================] - 7s 2ms/step - loss: 0.5398 - accuracy: 0.8319 - val_loss: 0.5416 - val_accuracy: 0.8288\n",
      "Epoch 33/50\n",
      "3375/3375 [==============================] - 7s 2ms/step - loss: 0.5390 - accuracy: 0.8316 - val_loss: 0.5316 - val_accuracy: 0.8378\n",
      "Epoch 34/50\n",
      "3375/3375 [==============================] - 7s 2ms/step - loss: 0.5380 - accuracy: 0.8318 - val_loss: 0.5485 - val_accuracy: 0.8303\n",
      "Epoch 35/50\n",
      "3375/3375 [==============================] - 7s 2ms/step - loss: 0.5403 - accuracy: 0.8321 - val_loss: 0.5444 - val_accuracy: 0.8351\n",
      "Epoch 36/50\n",
      "3375/3375 [==============================] - 7s 2ms/step - loss: 0.5389 - accuracy: 0.8320 - val_loss: 0.5372 - val_accuracy: 0.8377\n",
      "Epoch 37/50\n",
      "3375/3375 [==============================] - 6s 2ms/step - loss: 0.5381 - accuracy: 0.8327 - val_loss: 0.5499 - val_accuracy: 0.8304\n",
      "Epoch 38/50\n",
      "3375/3375 [==============================] - 6s 2ms/step - loss: 0.5387 - accuracy: 0.8331 - val_loss: 0.5461 - val_accuracy: 0.8277\n",
      "Epoch 39/50\n",
      "3375/3375 [==============================] - 7s 2ms/step - loss: 0.5386 - accuracy: 0.8327 - val_loss: 0.5416 - val_accuracy: 0.8316\n",
      "Epoch 40/50\n",
      "3375/3375 [==============================] - 6s 2ms/step - loss: 0.5396 - accuracy: 0.8327 - val_loss: 0.5434 - val_accuracy: 0.8320\n",
      "Epoch 41/50\n",
      "3375/3375 [==============================] - 6s 2ms/step - loss: 0.5387 - accuracy: 0.8328 - val_loss: 0.5358 - val_accuracy: 0.8376\n",
      "Epoch 42/50\n",
      "3375/3375 [==============================] - 6s 2ms/step - loss: 0.5394 - accuracy: 0.8334 - val_loss: 0.5364 - val_accuracy: 0.8322\n",
      "Epoch 43/50\n",
      "3375/3375 [==============================] - 7s 2ms/step - loss: 0.5401 - accuracy: 0.8318 - val_loss: 0.5396 - val_accuracy: 0.8328\n",
      "Epoch 44/50\n",
      "3375/3375 [==============================] - 7s 2ms/step - loss: 0.5385 - accuracy: 0.8328 - val_loss: 0.5465 - val_accuracy: 0.8296\n",
      "Epoch 45/50\n",
      "3375/3375 [==============================] - 6s 2ms/step - loss: 0.5401 - accuracy: 0.8332 - val_loss: 0.5507 - val_accuracy: 0.8327\n",
      "Epoch 46/50\n",
      "3375/3375 [==============================] - 7s 2ms/step - loss: 0.5396 - accuracy: 0.8328 - val_loss: 0.5550 - val_accuracy: 0.8265\n",
      "Epoch 47/50\n",
      "3375/3375 [==============================] - 7s 2ms/step - loss: 0.5405 - accuracy: 0.8315 - val_loss: 0.5470 - val_accuracy: 0.8335\n",
      "Epoch 48/50\n",
      "3375/3375 [==============================] - 7s 2ms/step - loss: 0.5394 - accuracy: 0.8322 - val_loss: 0.5470 - val_accuracy: 0.8298\n",
      "Epoch 49/50\n",
      "3375/3375 [==============================] - 7s 2ms/step - loss: 0.5390 - accuracy: 0.8317 - val_loss: 0.5486 - val_accuracy: 0.8317\n",
      "Epoch 50/50\n",
      "3375/3375 [==============================] - 6s 2ms/step - loss: 0.5409 - accuracy: 0.8321 - val_loss: 0.5514 - val_accuracy: 0.8263\n",
      "Model Evaluation\n",
      "238/238 [==============================] - 1s 2ms/step - loss: 0.5611 - accuracy: 0.8282\n"
     ]
    },
    {
     "data": {
      "image/png": "[encoded data removed]",
      "text/plain": [
       "<Figure size 576x360 with 1 Axes>"
      ]
     },
     "metadata": {
      "needs_background": "light"
     },
     "output_type": "display_data"
    }
   ],
   "source": [
    "#insert the model that you previously defined that overfit the \n",
    "#trainig data, and add the L2-norm regularization. Use proper values for the\n",
    "#alpha hyper-parameters, that prevents the model from overfitting. The results  \n",
    "#reached by the model in terms of loss and accuracy (in all data sets) should be\n",
    "#comparable with the ones obtained by the initial model defined in Exercise 2.1\n",
    "\n",
    "\n",
    "\n",
    "model = keras.models.Sequential([\n",
    "    tf.keras.Input(shape=(num_words,)),\n",
    "    keras.layers.Dense(32, activation=\"relu\",kernel_regularizer=tf.keras.regularizers.l2(0.0003)),\n",
    "    keras.layers.Dense(32, activation=\"relu\",kernel_regularizer=tf.keras.regularizers.l2(0.0003)),\n",
    "    keras.layers.Dense(4, activation=\"softmax\")\n",
    "])\n",
    "\n",
    "\n",
    "model.compile(loss=\"sparse_categorical_crossentropy\",\n",
    "              optimizer=keras.optimizers.Adam(learning_rate=1e-2),#learning rate\n",
    "              metrics=[\"accuracy\"])\n",
    "\n",
    "history = model.fit(X_train, y_train, epochs=50,#epochs\n",
    "                    validation_data=(X_valid, y_valid))\n",
    "\n",
    "print(\"Model Evaluation\")\n",
    "model.evaluate(X_test, y_test)\n",
    "plot_learning_curves(history)"
   ]
  },
  {
   "cell_type": "markdown",
   "metadata": {
    "id": "xvyKPb4DD25G"
   },
   "source": [
    "### Early stopping\n",
    "\n",
    "Early Stopping is a form of regularization used to avoid overfitting. It is designed to monitor the generalization error of one model and stop training when generalization error begins to degrade. In order to evaluate the generalization error, early stopping requires that a validation dataset is evaluated during training. Then, when the validation error does not improve for a specific number of epochs (`patience` hyper-parameter), it stops the training phase."
   ]
  },
  {
   "cell_type": "code",
   "execution_count": null,
   "metadata": {
    "id": "Wnw0Xjop8f9l"
   },
   "outputs": [],
   "source": [
    "def plot_learning_curves(history):\n",
    "    plt.figure(figsize=(8, 5))\n",
    "    plt.plot(history.epoch,history.history['loss'], label='train loss')\n",
    "    plt.plot(history.epoch,history.history['val_loss'], label='valid loss')\n",
    "    plt.legend()\n",
    "    plt.title('loss')\n",
    "    plt.grid(True)\n",
    "    plt.show()"
   ]
  },
  {
   "cell_type": "code",
   "execution_count": null,
   "metadata": {
    "colab": {
     "base_uri": "https://localhost:8080/",
     "height": 622
    },
    "id": "MqNOOZ11D7cq",
    "outputId": "88603732-406f-4521-ea64-479a5a1a4214"
   },
   "outputs": [
    {
     "name": "stdout",
     "output_type": "stream",
     "text": [
      "Epoch 1/50\n",
      "3375/3375 [==============================] - 7s 2ms/step - loss: 0.4649 - accuracy: 0.8306 - val_loss: 0.4109 - val_accuracy: 0.8520\n",
      "Epoch 2/50\n",
      "3375/3375 [==============================] - 6s 2ms/step - loss: 0.3880 - accuracy: 0.8582 - val_loss: 0.3982 - val_accuracy: 0.8557\n",
      "Epoch 3/50\n",
      "3375/3375 [==============================] - 6s 2ms/step - loss: 0.3591 - accuracy: 0.8681 - val_loss: 0.3907 - val_accuracy: 0.8590\n",
      "Epoch 4/50\n",
      "3375/3375 [==============================] - 6s 2ms/step - loss: 0.3338 - accuracy: 0.8772 - val_loss: 0.3996 - val_accuracy: 0.8547\n",
      "Epoch 5/50\n",
      "3375/3375 [==============================] - 6s 2ms/step - loss: 0.3124 - accuracy: 0.8861 - val_loss: 0.3945 - val_accuracy: 0.8572\n",
      "Epoch 6/50\n",
      "3375/3375 [==============================] - 6s 2ms/step - loss: 0.2932 - accuracy: 0.8923 - val_loss: 0.4019 - val_accuracy: 0.8577\n",
      "Epoch 7/50\n",
      "3375/3375 [==============================] - 6s 2ms/step - loss: 0.2764 - accuracy: 0.8994 - val_loss: 0.4252 - val_accuracy: 0.8502\n",
      "Model Evaluation\n",
      "238/238 [==============================] - 0s 1ms/step - loss: 0.4008 - accuracy: 0.8532\n"
     ]
    },
    {
     "data": {
      "image/png": "[encoded data removed]",
      "text/plain": [
       "<Figure size 576x360 with 1 Axes>"
      ]
     },
     "metadata": {
      "needs_background": "light"
     },
     "output_type": "display_data"
    }
   ],
   "source": [
    "#insert the model that you previously defined that overfit the \n",
    "#trainnig data\n",
    "model = keras.models.Sequential([\n",
    "    tf.keras.Input(shape=(num_words,)),\n",
    "    keras.layers.Dense(32, activation=\"relu\"),\n",
    "    keras.layers.Dense(32, activation=\"relu\"),\n",
    "    keras.layers.Dense(4, activation=\"softmax\")\n",
    "])\n",
    "\n",
    "\n",
    "model.compile(loss=\"sparse_categorical_crossentropy\",\n",
    "              optimizer=keras.optimizers.Adam(learning_rate=1e-3),#learning rate\n",
    "\n",
    "              metrics=[\"accuracy\"])\n",
    "\n",
    "#Let's define a log dir in order to save the checkpoint file\n",
    "logdir = os.path.join(os.curdir, \"my_logs\", \"run_{}\".format(time.time()))\n",
    "\n",
    "#In Keras the early stopping is manage by using the callbacks argument.\n",
    "callbacks = [\n",
    "    keras.callbacks.TensorBoard(logdir),\n",
    "    keras.callbacks.EarlyStopping(patience=4),#play with patience and find the value that prevents the model from overfitting.\n",
    "\n",
    "\n",
    "    #Saving the checkpoints file allows to load the \"best\" model when the Early \n",
    "    #stopping detect that the generalization error degrade (after 'patience' epochs)\n",
    "    keras.callbacks.ModelCheckpoint(\"my_mnist_model.h5\", save_best_only=True),\n",
    "]\n",
    "\n",
    "history = model.fit(X_train, y_train, epochs=50,# epochs\n",
    "                    validation_data=(X_valid, y_valid),\n",
    "                    callbacks=callbacks)\n",
    "\n",
    "print(\"Model Evaluation\")\n",
    "#The early stopping stopped training after few epochs without progress, so your\n",
    "#model may already have started to overfit the training set. Since the \n",
    "#ModelCheckpoint callback only saved the best models (on the validation set) the\n",
    "#last saved model is the best on the validation set.\n",
    "model = keras.models.load_model(\"my_mnist_model.h5\")\n",
    "model.evaluate(X_test, y_test)\n",
    "plot_learning_curves(history)"
   ]
  },
  {
   "cell_type": "markdown",
   "metadata": {
    "id": "DCV8pwVzl9GK"
   },
   "source": [
    "\n",
    "## Exercise 2.3: Model Selection\n",
    "\n",
    "Hyperparameters are the parameters of the learning method itself which we have to specify a priori, i.e., before model fitting. In contrast, model parameters are parameters which arise as a result of the fit (the network weights). The aim of model selection is selecting the best hyperparameters for our deep network. Finding the right hyperparameters for a model can be crucial for the model performance on given data. For istance lets consider our model trained by using different values for the learning rate: "
   ]
  },
  {
   "cell_type": "code",
   "execution_count": null,
   "metadata": {
    "id": "Fw8Hs-AEmLKh"
   },
   "outputs": [],
   "source": [
    "learning_rates = [1e-4, 1e-2, 1e-1]"
   ]
  },
  {
   "cell_type": "code",
   "execution_count": null,
   "metadata": {
    "colab": {
     "base_uri": "https://localhost:8080/"
    },
    "id": "mym4GOgUmWqD",
    "outputId": "6b869178-c899-4c4c-94ae-4f60feb46d1b"
   },
   "outputs": [
    {
     "name": "stdout",
     "output_type": "stream",
     "text": [
      "Epoch 1/10\n",
      "3375/3375 [==============================] - 6s 2ms/step - loss: 0.8354 - accuracy: 0.7037 - val_loss: 0.4989 - val_accuracy: 0.8329\n",
      "Epoch 2/10\n",
      "3375/3375 [==============================] - 6s 2ms/step - loss: 0.4521 - accuracy: 0.8440 - val_loss: 0.4402 - val_accuracy: 0.8475\n",
      "Epoch 3/10\n",
      "3375/3375 [==============================] - 6s 2ms/step - loss: 0.4182 - accuracy: 0.8537 - val_loss: 0.4273 - val_accuracy: 0.8521\n",
      "Epoch 4/10\n",
      "3375/3375 [==============================] - 6s 2ms/step - loss: 0.4051 - accuracy: 0.8578 - val_loss: 0.4193 - val_accuracy: 0.8543\n",
      "Epoch 5/10\n",
      "3375/3375 [==============================] - 6s 2ms/step - loss: 0.3975 - accuracy: 0.8594 - val_loss: 0.4168 - val_accuracy: 0.8536\n",
      "Epoch 6/10\n",
      "3375/3375 [==============================] - 6s 2ms/step - loss: 0.3924 - accuracy: 0.8604 - val_loss: 0.4139 - val_accuracy: 0.8528\n",
      "Epoch 7/10\n",
      "3375/3375 [==============================] - 6s 2ms/step - loss: 0.3883 - accuracy: 0.8619 - val_loss: 0.4114 - val_accuracy: 0.8541\n",
      "Epoch 8/10\n",
      "3375/3375 [==============================] - 6s 2ms/step - loss: 0.3848 - accuracy: 0.8625 - val_loss: 0.4104 - val_accuracy: 0.8533\n",
      "Epoch 9/10\n",
      "3375/3375 [==============================] - 6s 2ms/step - loss: 0.3817 - accuracy: 0.8634 - val_loss: 0.4081 - val_accuracy: 0.8547\n",
      "Epoch 10/10\n",
      "3375/3375 [==============================] - 6s 2ms/step - loss: 0.3790 - accuracy: 0.8638 - val_loss: 0.4074 - val_accuracy: 0.8536\n",
      "evaluation on test set\n",
      "238/238 [==============================] - 1s 2ms/step - loss: 0.4184 - accuracy: 0.8479\n",
      "Epoch 1/10\n",
      "3375/3375 [==============================] - 6s 2ms/step - loss: 0.4651 - accuracy: 0.8307 - val_loss: 0.4460 - val_accuracy: 0.8413\n",
      "Epoch 2/10\n",
      "3375/3375 [==============================] - 6s 2ms/step - loss: 0.4118 - accuracy: 0.8505 - val_loss: 0.4164 - val_accuracy: 0.8510\n",
      "Epoch 3/10\n",
      "3375/3375 [==============================] - 6s 2ms/step - loss: 0.3916 - accuracy: 0.8581 - val_loss: 0.4183 - val_accuracy: 0.8539\n",
      "Epoch 4/10\n",
      "3375/3375 [==============================] - 6s 2ms/step - loss: 0.3762 - accuracy: 0.8645 - val_loss: 0.4253 - val_accuracy: 0.8536\n",
      "evaluation on test set\n",
      "238/238 [==============================] - 1s 2ms/step - loss: 0.4341 - accuracy: 0.8488\n",
      "Epoch 1/10\n",
      "3375/3375 [==============================] - 6s 2ms/step - loss: 0.7181 - accuracy: 0.7617 - val_loss: 0.6467 - val_accuracy: 0.7938\n",
      "Epoch 2/10\n",
      "3375/3375 [==============================] - 6s 2ms/step - loss: 0.6637 - accuracy: 0.7899 - val_loss: 0.6941 - val_accuracy: 0.7741\n",
      "Epoch 3/10\n",
      "3375/3375 [==============================] - 6s 2ms/step - loss: 0.7516 - accuracy: 0.7110 - val_loss: 0.7525 - val_accuracy: 0.7235\n",
      "evaluation on test set\n",
      "238/238 [==============================] - 1s 2ms/step - loss: 0.7509 - accuracy: 0.7212\n"
     ]
    }
   ],
   "source": [
    "histories = []\n",
    "for learning_rate in learning_rates:\n",
    "    model = keras.models.Sequential([\n",
    "                                    tf.keras.Input(shape=(num_words,)),\n",
    "                                    keras.layers.Dense(16, activation=\"relu\"),\n",
    "                                    keras.layers.Dense(16, activation=\"relu\"),\n",
    "                                    keras.layers.Dense(4, activation=\"softmax\")\n",
    "                                     ])\n",
    "    model.compile(loss=\"sparse_categorical_crossentropy\",\n",
    "              optimizer=keras.optimizers.Adam(learning_rate=learning_rate),\n",
    "              metrics=[\"accuracy\"])\n",
    "              \n",
    "    callbacks = [keras.callbacks.EarlyStopping(patience=2)]\n",
    "\n",
    "    history = model.fit(X_train, y_train,\n",
    "                        validation_data=(X_valid, y_valid), epochs=10,\n",
    "                        callbacks=callbacks)\n",
    "    histories.append(history)\n",
    "    print(\"evaluation on test set\")\n",
    "    model.evaluate(X_test, y_test)"
   ]
  },
  {
   "cell_type": "markdown",
   "metadata": {
    "id": "RzTSjfwptkHJ"
   },
   "source": [
    "Let's plot the results"
   ]
  },
  {
   "cell_type": "code",
   "execution_count": null,
   "metadata": {
    "colab": {
     "base_uri": "https://localhost:8080/",
     "height": 981
    },
    "id": "cIlN1vlioIYh",
    "outputId": "fdc2a831-a6a4-4997-e74c-be74303cfab9"
   },
   "outputs": [
    {
     "name": "stdout",
     "output_type": "stream",
     "text": [
      "Learning rate: 0.0001\n"
     ]
    },
    {
     "data": {
      "image/png": "[encoded data removed]",
      "text/plain": [
       "<Figure size 576x360 with 1 Axes>"
      ]
     },
     "metadata": {
      "needs_background": "light"
     },
     "output_type": "display_data"
    },
    {
     "name": "stdout",
     "output_type": "stream",
     "text": [
      "Learning rate: 0.01\n"
     ]
    },
    {
     "data": {
      "image/png": "[encoded data removed]",
      "text/plain": [
       "<Figure size 576x360 with 1 Axes>"
      ]
     },
     "metadata": {
      "needs_background": "light"
     },
     "output_type": "display_data"
    },
    {
     "name": "stdout",
     "output_type": "stream",
     "text": [
      "Learning rate: 0.1\n"
     ]
    },
    {
     "data": {
      "image/png": "[encoded data removed]",
      "text/plain": [
       "<Figure size 576x360 with 1 Axes>"
      ]
     },
     "metadata": {
      "needs_background": "light"
     },
     "output_type": "display_data"
    }
   ],
   "source": [
    "for learning_rate, history in zip(learning_rates, histories):\n",
    "    print(\"Learning rate:\", learning_rate)\n",
    "    plot_learning_acc_and_loss(history)"
   ]
  },
  {
   "cell_type": "markdown",
   "metadata": {
    "id": "_JntujSWq3e5"
   },
   "source": [
    "### GRID Search:\n",
    "\n",
    "Since a deep net has many hyperparameters, in order to find the best ones, we have to consider all the possible combinations of all of the possible values. One common method to perform this complex task is Grid-Search.\n",
    "Given a set of values for each hyper-parameter, Grid-Search will build a model on each parameter combination possible. It iterates through every parameter combination and stores a model for each combination. Finally, the model that obtained the best result on the validation set will be select.\n",
    "\n",
    "In order to perfrom Grid-Search we will use the `GridSearchCV` class from `scikit-learn`."
   ]
  },
  {
   "cell_type": "markdown",
   "metadata": {
    "id": "CPz629YSrDhN"
   },
   "source": [
    "Let's Create a `build_model()` function that takes two arguments, `n_neurons` and `learning_rate`, and builds, compiles and returns a model with the given number of of neurons and the given learning rate.\n",
    "In order to limit the time requirements of the process we will consider only these two hyper-paramters."
   ]
  },
  {
   "cell_type": "code",
   "execution_count": null,
   "metadata": {
    "colab": {
     "base_uri": "https://localhost:8080/"
    },
    "id": "oGSKWTTtqxZ4",
    "outputId": "84310e8c-cb2b-4095-e79d-4ee37725bbf8"
   },
   "outputs": [
    {
     "name": "stderr",
     "output_type": "stream",
     "text": [
      "/usr/local/lib/python3.7/dist-packages/ipykernel_launcher.py:26: DeprecationWarning: KerasRegressor is deprecated, use Sci-Keras (https://github.com/adriangb/scikeras) instead. See https://www.adriangb.com/scikeras/stable/migration.html for help migrating.\n"
     ]
    }
   ],
   "source": [
    "def build_model(n_units=30, learning_rate=1e-3):\n",
    "    # The function has to build a model similar to the ones we used in previuous execises:\n",
    "    #- a input layer \n",
    "    #- one or two Dense layers composed of n_units and that exploit Relu activation function \n",
    "    #- the output layer that uses the softmax activation function\n",
    "    # Then, the model has to be compiled.\n",
    "    model = keras.models.Sequential([\n",
    "                                    tf.keras.Input(shape=(num_words,)),\n",
    "                                    keras.layers.Dense(n_units, activation=\"relu\"),\n",
    "                                    keras.layers.Dense(n_units, activation=\"relu\"),\n",
    "                                    keras.layers.Dense(4, activation=\"softmax\")\n",
    "                                     ])\n",
    "    \n",
    "    # Then, the model has to be compiled.\n",
    "    model.compile(loss=\"sparse_categorical_crossentropy\",\n",
    "              optimizer=keras.optimizers.Adam(learning_rate=learning_rate),\n",
    "\n",
    "              metrics=[\"accuracy\"])\n",
    "    \n",
    "    return model\n",
    "\n",
    "    \n",
    "#Create a keras.wrappers.scikit_learn.KerasRegressor and pass the build_model \n",
    "#function to the constructor. This gives you a Scikit-Learn compatible predictor\n",
    "keras_reg = keras.wrappers.scikit_learn.KerasRegressor(build_model)"
   ]
  },
  {
   "cell_type": "markdown",
   "metadata": {
    "id": "PS6W3A2LxDg5"
   },
   "source": [
    "Let's define the lists of hyper-parameters' values. Also in this case, we use a very limited size lists, but in a real-world scenario a reasonable amount of possible values should be considered (try to add some values and check how much the time required to perform the Grid-Search increases)"
   ]
  },
  {
   "cell_type": "code",
   "execution_count": null,
   "metadata": {
    "id": "y-uldCW3ru24"
   },
   "outputs": [],
   "source": [
    "param_distribs = {\n",
    "    \"n_units\": [8, 16, 32],#insert a list that contains few (2 or 3) reasonable value\n",
    "    \"learning_rate\": [1e-4, 1e-5] #insert a list that contains few (2 or 3) reasonable values\n",
    "    #Check how the time required to perform GRID search increases when increasing the number of values for each hyper-parameter.\n",
    "}"
   ]
  },
  {
   "cell_type": "markdown",
   "metadata": {
    "id": "bEiBxVYtx_sK"
   },
   "source": [
    "Use a `sklearn.model_selection.GridSearchCV` to search the hyperparameter space of your `KerasRegressor`"
   ]
  },
  {
   "cell_type": "code",
   "execution_count": null,
   "metadata": {
    "id": "iobF2Bvdr9ER"
   },
   "outputs": [],
   "source": [
    "from sklearn.model_selection import GridSearchCV\n",
    "\n",
    "grid_search = GridSearchCV(keras_reg, param_distribs)"
   ]
  },
  {
   "cell_type": "markdown",
   "metadata": {
    "id": "LVGMcZz_yKSX"
   },
   "source": [
    "Run the Grid-Search"
   ]
  },
  {
   "cell_type": "code",
   "execution_count": null,
   "metadata": {
    "colab": {
     "base_uri": "https://localhost:8080/"
    },
    "id": "-BA3vgTjr-hw",
    "outputId": "9fa16d5c-70ab-4fc9-8af4-947bb3d38bef"
   },
   "outputs": [
    {
     "name": "stdout",
     "output_type": "stream",
     "text": [
      "Epoch 1/5\n",
      "2700/2700 [==============================] - 5s 2ms/step - loss: 0.9888 - accuracy: 0.6740 - val_loss: 0.6488 - val_accuracy: 0.8127\n",
      "Epoch 2/5\n",
      "2700/2700 [==============================] - 5s 2ms/step - loss: 0.5453 - accuracy: 0.8284 - val_loss: 0.4971 - val_accuracy: 0.8336\n",
      "Epoch 3/5\n",
      "2700/2700 [==============================] - 5s 2ms/step - loss: 0.4639 - accuracy: 0.8436 - val_loss: 0.4586 - val_accuracy: 0.8438\n",
      "Epoch 4/5\n",
      "2700/2700 [==============================] - 5s 2ms/step - loss: 0.4354 - accuracy: 0.8500 - val_loss: 0.4421 - val_accuracy: 0.8470\n",
      "Epoch 5/5\n",
      "2700/2700 [==============================] - 5s 2ms/step - loss: 0.4206 - accuracy: 0.8537 - val_loss: 0.4338 - val_accuracy: 0.8502\n",
      "675/675 [==============================] - 1s 1ms/step - loss: 0.4192 - accuracy: 0.8535\n",
      "Epoch 1/5\n",
      "2700/2700 [==============================] - 5s 2ms/step - loss: 1.0439 - accuracy: 0.6243 - val_loss: 0.7086 - val_accuracy: 0.8037\n",
      "Epoch 2/5\n",
      "2700/2700 [==============================] - 5s 2ms/step - loss: 0.5714 - accuracy: 0.8251 - val_loss: 0.5011 - val_accuracy: 0.8362\n",
      "Epoch 3/5\n",
      "2700/2700 [==============================] - 5s 2ms/step - loss: 0.4633 - accuracy: 0.8445 - val_loss: 0.4575 - val_accuracy: 0.8462\n",
      "Epoch 4/5\n",
      "2700/2700 [==============================] - 5s 2ms/step - loss: 0.4321 - accuracy: 0.8510 - val_loss: 0.4406 - val_accuracy: 0.8496\n",
      "Epoch 5/5\n",
      "2700/2700 [==============================] - 5s 2ms/step - loss: 0.4172 - accuracy: 0.8549 - val_loss: 0.4321 - val_accuracy: 0.8516\n",
      "675/675 [==============================] - 1s 1ms/step - loss: 0.4257 - accuracy: 0.8510\n",
      "Epoch 1/5\n",
      "2700/2700 [==============================] - 5s 2ms/step - loss: 1.0959 - accuracy: 0.6180 - val_loss: 0.7096 - val_accuracy: 0.8030\n",
      "Epoch 2/5\n",
      "2700/2700 [==============================] - 5s 2ms/step - loss: 0.5641 - accuracy: 0.8252 - val_loss: 0.5021 - val_accuracy: 0.8338\n",
      "Epoch 3/5\n",
      "2700/2700 [==============================] - 5s 2ms/step - loss: 0.4633 - accuracy: 0.8447 - val_loss: 0.4606 - val_accuracy: 0.8440\n",
      "Epoch 4/5\n",
      "2700/2700 [==============================] - 5s 2ms/step - loss: 0.4332 - accuracy: 0.8514 - val_loss: 0.4439 - val_accuracy: 0.8482\n",
      "Epoch 5/5\n",
      "2700/2700 [==============================] - 5s 2ms/step - loss: 0.4185 - accuracy: 0.8558 - val_loss: 0.4353 - val_accuracy: 0.8499\n",
      "675/675 [==============================] - 1s 1ms/step - loss: 0.4396 - accuracy: 0.8447\n",
      "Epoch 1/5\n",
      "2700/2700 [==============================] - 5s 2ms/step - loss: 1.1634 - accuracy: 0.5006 - val_loss: 0.8669 - val_accuracy: 0.6507\n",
      "Epoch 2/5\n",
      "2700/2700 [==============================] - 5s 2ms/step - loss: 0.7343 - accuracy: 0.6972 - val_loss: 0.6579 - val_accuracy: 0.7560\n",
      "Epoch 3/5\n",
      "2700/2700 [==============================] - 5s 2ms/step - loss: 0.6022 - accuracy: 0.7954 - val_loss: 0.5673 - val_accuracy: 0.8188\n",
      "Epoch 4/5\n",
      "2700/2700 [==============================] - 5s 2ms/step - loss: 0.5181 - accuracy: 0.8323 - val_loss: 0.4993 - val_accuracy: 0.8375\n",
      "Epoch 5/5\n",
      "2700/2700 [==============================] - 5s 2ms/step - loss: 0.4640 - accuracy: 0.8452 - val_loss: 0.4631 - val_accuracy: 0.8436\n",
      "675/675 [==============================] - 1s 1ms/step - loss: 0.4515 - accuracy: 0.8497\n",
      "Epoch 1/5\n",
      "2700/2700 [==============================] - 5s 2ms/step - loss: 1.0343 - accuracy: 0.6260 - val_loss: 0.6732 - val_accuracy: 0.8033\n",
      "Epoch 2/5\n",
      "2700/2700 [==============================] - 5s 2ms/step - loss: 0.5484 - accuracy: 0.8282 - val_loss: 0.4948 - val_accuracy: 0.8355\n",
      "Epoch 3/5\n",
      "2700/2700 [==============================] - 5s 2ms/step - loss: 0.4593 - accuracy: 0.8451 - val_loss: 0.4581 - val_accuracy: 0.8460\n",
      "Epoch 4/5\n",
      "2700/2700 [==============================] - 5s 2ms/step - loss: 0.4323 - accuracy: 0.8521 - val_loss: 0.4443 - val_accuracy: 0.8500\n",
      "Epoch 5/5\n",
      "2700/2700 [==============================] - 5s 2ms/step - loss: 0.4191 - accuracy: 0.8554 - val_loss: 0.4376 - val_accuracy: 0.8506\n",
      "675/675 [==============================] - 1s 1ms/step - loss: 0.4352 - accuracy: 0.8491\n",
      "Epoch 1/5\n",
      "2700/2700 [==============================] - 6s 2ms/step - loss: 0.8880 - accuracy: 0.6882 - val_loss: 0.5410 - val_accuracy: 0.8207\n",
      "Epoch 2/5\n",
      "2700/2700 [==============================] - 5s 2ms/step - loss: 0.4807 - accuracy: 0.8368 - val_loss: 0.4581 - val_accuracy: 0.8445\n",
      "Epoch 3/5\n",
      "2700/2700 [==============================] - 5s 2ms/step - loss: 0.4329 - accuracy: 0.8496 - val_loss: 0.4376 - val_accuracy: 0.8490\n",
      "Epoch 4/5\n",
      "2700/2700 [==============================] - 5s 2ms/step - loss: 0.4147 - accuracy: 0.8554 - val_loss: 0.4272 - val_accuracy: 0.8502\n",
      "Epoch 5/5\n",
      "2700/2700 [==============================] - 5s 2ms/step - loss: 0.4044 - accuracy: 0.8578 - val_loss: 0.4219 - val_accuracy: 0.8520\n",
      "675/675 [==============================] - 1s 1ms/step - loss: 0.4104 - accuracy: 0.8535\n",
      "Epoch 1/5\n",
      "2700/2700 [==============================] - 5s 2ms/step - loss: 0.8381 - accuracy: 0.7033 - val_loss: 0.5257 - val_accuracy: 0.8258\n",
      "Epoch 2/5\n",
      "2700/2700 [==============================] - 5s 2ms/step - loss: 0.4676 - accuracy: 0.8395 - val_loss: 0.4516 - val_accuracy: 0.8455\n",
      "Epoch 3/5\n",
      "2700/2700 [==============================] - 5s 2ms/step - loss: 0.4250 - accuracy: 0.8516 - val_loss: 0.4356 - val_accuracy: 0.8493\n",
      "Epoch 4/5\n",
      "2700/2700 [==============================] - 5s 2ms/step - loss: 0.4095 - accuracy: 0.8567 - val_loss: 0.4281 - val_accuracy: 0.8517\n",
      "Epoch 5/5\n",
      "2700/2700 [==============================] - 5s 2ms/step - loss: 0.4009 - accuracy: 0.8580 - val_loss: 0.4246 - val_accuracy: 0.8503\n",
      "675/675 [==============================] - 1s 1ms/step - loss: 0.4165 - accuracy: 0.8530\n",
      "Epoch 1/5\n",
      "2700/2700 [==============================] - 5s 2ms/step - loss: 0.8684 - accuracy: 0.6972 - val_loss: 0.5310 - val_accuracy: 0.8270\n",
      "Epoch 2/5\n",
      "2700/2700 [==============================] - 5s 2ms/step - loss: 0.4690 - accuracy: 0.8424 - val_loss: 0.4547 - val_accuracy: 0.8435\n",
      "Epoch 3/5\n",
      "2700/2700 [==============================] - 5s 2ms/step - loss: 0.4251 - accuracy: 0.8531 - val_loss: 0.4375 - val_accuracy: 0.8496\n",
      "Epoch 4/5\n",
      "2700/2700 [==============================] - 5s 2ms/step - loss: 0.4087 - accuracy: 0.8581 - val_loss: 0.4295 - val_accuracy: 0.8497\n",
      "Epoch 5/5\n",
      "2700/2700 [==============================] - 5s 2ms/step - loss: 0.3998 - accuracy: 0.8597 - val_loss: 0.4247 - val_accuracy: 0.8503\n",
      "675/675 [==============================] - 1s 1ms/step - loss: 0.4302 - accuracy: 0.8463\n",
      "Epoch 1/5\n",
      "2700/2700 [==============================] - 5s 2ms/step - loss: 0.9329 - accuracy: 0.6708 - val_loss: 0.5724 - val_accuracy: 0.8205\n",
      "Epoch 2/5\n",
      "2700/2700 [==============================] - 5s 2ms/step - loss: 0.4946 - accuracy: 0.8359 - val_loss: 0.4630 - val_accuracy: 0.8427\n",
      "Epoch 3/5\n",
      "2700/2700 [==============================] - 5s 2ms/step - loss: 0.4358 - accuracy: 0.8490 - val_loss: 0.4388 - val_accuracy: 0.8487\n",
      "Epoch 4/5\n",
      "2700/2700 [==============================] - 5s 2ms/step - loss: 0.4164 - accuracy: 0.8539 - val_loss: 0.4307 - val_accuracy: 0.8495\n",
      "Epoch 5/5\n",
      "2700/2700 [==============================] - 5s 2ms/step - loss: 0.4066 - accuracy: 0.8568 - val_loss: 0.4241 - val_accuracy: 0.8497\n",
      "675/675 [==============================] - 1s 1ms/step - loss: 0.4121 - accuracy: 0.8562\n",
      "Epoch 1/5\n",
      "2700/2700 [==============================] - 5s 2ms/step - loss: 0.9103 - accuracy: 0.6796 - val_loss: 0.5412 - val_accuracy: 0.8280\n",
      "Epoch 2/5\n",
      "2700/2700 [==============================] - 5s 2ms/step - loss: 0.4741 - accuracy: 0.8421 - val_loss: 0.4569 - val_accuracy: 0.8449\n",
      "Epoch 3/5\n",
      "2700/2700 [==============================] - 5s 2ms/step - loss: 0.4279 - accuracy: 0.8530 - val_loss: 0.4381 - val_accuracy: 0.8497\n",
      "Epoch 4/5\n",
      "2700/2700 [==============================] - 5s 2ms/step - loss: 0.4110 - accuracy: 0.8569 - val_loss: 0.4302 - val_accuracy: 0.8518\n",
      "Epoch 5/5\n",
      "2700/2700 [==============================] - 5s 2ms/step - loss: 0.4017 - accuracy: 0.8587 - val_loss: 0.4256 - val_accuracy: 0.8516\n",
      "675/675 [==============================] - 1s 1ms/step - loss: 0.4248 - accuracy: 0.8489\n",
      "Epoch 1/5\n",
      "2700/2700 [==============================] - 6s 2ms/step - loss: 0.7686 - accuracy: 0.7333 - val_loss: 0.4786 - val_accuracy: 0.8359\n",
      "Epoch 2/5\n",
      "2700/2700 [==============================] - 5s 2ms/step - loss: 0.4405 - accuracy: 0.8471 - val_loss: 0.4374 - val_accuracy: 0.8478\n",
      "Epoch 3/5\n",
      "2700/2700 [==============================] - 5s 2ms/step - loss: 0.4127 - accuracy: 0.8544 - val_loss: 0.4266 - val_accuracy: 0.8499\n",
      "Epoch 4/5\n",
      "2700/2700 [==============================] - 5s 2ms/step - loss: 0.4008 - accuracy: 0.8585 - val_loss: 0.4198 - val_accuracy: 0.8487\n",
      "Epoch 5/5\n",
      "2700/2700 [==============================] - 5s 2ms/step - loss: 0.3933 - accuracy: 0.8599 - val_loss: 0.4167 - val_accuracy: 0.8494\n",
      "675/675 [==============================] - 1s 1ms/step - loss: 0.4039 - accuracy: 0.8559\n",
      "Epoch 1/5\n",
      "2700/2700 [==============================] - 6s 2ms/step - loss: 0.7800 - accuracy: 0.7261 - val_loss: 0.4915 - val_accuracy: 0.8351\n",
      "Epoch 2/5\n",
      "2700/2700 [==============================] - 5s 2ms/step - loss: 0.4474 - accuracy: 0.8451 - val_loss: 0.4448 - val_accuracy: 0.8481\n",
      "Epoch 3/5\n",
      "2700/2700 [==============================] - 5s 2ms/step - loss: 0.4162 - accuracy: 0.8543 - val_loss: 0.4334 - val_accuracy: 0.8507\n",
      "Epoch 4/5\n",
      "2700/2700 [==============================] - 5s 2ms/step - loss: 0.4028 - accuracy: 0.8581 - val_loss: 0.4253 - val_accuracy: 0.8500\n",
      "Epoch 5/5\n",
      "2700/2700 [==============================] - 5s 2ms/step - loss: 0.3946 - accuracy: 0.8600 - val_loss: 0.4217 - val_accuracy: 0.8507\n",
      "675/675 [==============================] - 1s 1ms/step - loss: 0.4128 - accuracy: 0.8521\n",
      "Epoch 1/5\n",
      "2700/2700 [==============================] - 6s 2ms/step - loss: 0.7597 - accuracy: 0.7418 - val_loss: 0.4782 - val_accuracy: 0.8372\n",
      "Epoch 2/5\n",
      "2700/2700 [==============================] - 5s 2ms/step - loss: 0.4357 - accuracy: 0.8487 - val_loss: 0.4374 - val_accuracy: 0.8482\n",
      "Epoch 3/5\n",
      "2700/2700 [==============================] - 5s 2ms/step - loss: 0.4087 - accuracy: 0.8562 - val_loss: 0.4266 - val_accuracy: 0.8497\n",
      "Epoch 4/5\n",
      "2700/2700 [==============================] - 5s 2ms/step - loss: 0.3968 - accuracy: 0.8594 - val_loss: 0.4212 - val_accuracy: 0.8481\n",
      "Epoch 5/5\n",
      "2700/2700 [==============================] - 5s 2ms/step - loss: 0.3894 - accuracy: 0.8617 - val_loss: 0.4164 - val_accuracy: 0.8508\n",
      "675/675 [==============================] - 1s 1ms/step - loss: 0.4239 - accuracy: 0.8463\n",
      "Epoch 1/5\n",
      "2700/2700 [==============================] - 6s 2ms/step - loss: 0.7532 - accuracy: 0.7316 - val_loss: 0.4782 - val_accuracy: 0.8354\n",
      "Epoch 2/5\n",
      "2700/2700 [==============================] - 5s 2ms/step - loss: 0.4398 - accuracy: 0.8466 - val_loss: 0.4377 - val_accuracy: 0.8482\n",
      "Epoch 3/5\n",
      "2700/2700 [==============================] - 5s 2ms/step - loss: 0.4127 - accuracy: 0.8536 - val_loss: 0.4273 - val_accuracy: 0.8504\n",
      "Epoch 4/5\n",
      "2700/2700 [==============================] - 5s 2ms/step - loss: 0.4008 - accuracy: 0.8572 - val_loss: 0.4222 - val_accuracy: 0.8507\n",
      "Epoch 5/5\n",
      "2700/2700 [==============================] - 5s 2ms/step - loss: 0.3933 - accuracy: 0.8588 - val_loss: 0.4162 - val_accuracy: 0.8525\n",
      "675/675 [==============================] - 1s 1ms/step - loss: 0.4053 - accuracy: 0.8562\n",
      "Epoch 1/5\n",
      "2700/2700 [==============================] - 6s 2ms/step - loss: 0.7782 - accuracy: 0.7233 - val_loss: 0.4810 - val_accuracy: 0.8346\n",
      "Epoch 2/5\n",
      "2700/2700 [==============================] - 5s 2ms/step - loss: 0.4390 - accuracy: 0.8476 - val_loss: 0.4374 - val_accuracy: 0.8474\n",
      "Epoch 3/5\n",
      "2700/2700 [==============================] - 5s 2ms/step - loss: 0.4098 - accuracy: 0.8556 - val_loss: 0.4254 - val_accuracy: 0.8502\n",
      "Epoch 4/5\n",
      "2700/2700 [==============================] - 5s 2ms/step - loss: 0.3974 - accuracy: 0.8589 - val_loss: 0.4210 - val_accuracy: 0.8517\n",
      "Epoch 5/5\n",
      "2700/2700 [==============================] - 5s 2ms/step - loss: 0.3901 - accuracy: 0.8608 - val_loss: 0.4168 - val_accuracy: 0.8533\n",
      "675/675 [==============================] - 1s 1ms/step - loss: 0.4157 - accuracy: 0.8525\n",
      "Epoch 1/5\n",
      "2700/2700 [==============================] - 5s 2ms/step - loss: 1.3813 - accuracy: 0.2974 - val_loss: 1.3735 - val_accuracy: 0.3401\n",
      "Epoch 2/5\n",
      "2700/2700 [==============================] - 5s 2ms/step - loss: 1.3589 - accuracy: 0.3820 - val_loss: 1.3393 - val_accuracy: 0.4097\n",
      "Epoch 3/5\n",
      "2700/2700 [==============================] - 5s 2ms/step - loss: 1.3146 - accuracy: 0.4410 - val_loss: 1.2876 - val_accuracy: 0.4542\n",
      "Epoch 4/5\n",
      "2700/2700 [==============================] - 5s 2ms/step - loss: 1.2579 - accuracy: 0.4843 - val_loss: 1.2275 - val_accuracy: 0.5041\n",
      "Epoch 5/5\n",
      "2700/2700 [==============================] - 5s 2ms/step - loss: 1.1935 - accuracy: 0.5412 - val_loss: 1.1589 - val_accuracy: 0.5767\n",
      "675/675 [==============================] - 1s 1ms/step - loss: 1.1602 - accuracy: 0.5693\n",
      "Epoch 1/5\n",
      "2700/2700 [==============================] - 5s 2ms/step - loss: 1.3829 - accuracy: 0.2689 - val_loss: 1.3735 - val_accuracy: 0.2990\n",
      "Epoch 2/5\n",
      "2700/2700 [==============================] - 5s 2ms/step - loss: 1.3577 - accuracy: 0.3276 - val_loss: 1.3378 - val_accuracy: 0.3628\n",
      "Epoch 3/5\n",
      "2700/2700 [==============================] - 5s 2ms/step - loss: 1.3123 - accuracy: 0.3963 - val_loss: 1.2831 - val_accuracy: 0.4257\n",
      "Epoch 4/5\n",
      "2700/2700 [==============================] - 5s 2ms/step - loss: 1.2536 - accuracy: 0.4423 - val_loss: 1.2224 - val_accuracy: 0.4610\n",
      "Epoch 5/5\n",
      "2700/2700 [==============================] - 5s 2ms/step - loss: 1.1928 - accuracy: 0.4779 - val_loss: 1.1623 - val_accuracy: 0.4962\n",
      "675/675 [==============================] - 1s 1ms/step - loss: 1.1684 - accuracy: 0.4905\n",
      "Epoch 1/5\n",
      "2700/2700 [==============================] - 5s 2ms/step - loss: 1.3822 - accuracy: 0.2668 - val_loss: 1.3685 - val_accuracy: 0.2993\n",
      "Epoch 2/5\n",
      "2700/2700 [==============================] - 5s 2ms/step - loss: 1.3565 - accuracy: 0.3257 - val_loss: 1.3358 - val_accuracy: 0.3562\n",
      "Epoch 3/5\n",
      "2700/2700 [==============================] - 5s 2ms/step - loss: 1.3163 - accuracy: 0.3802 - val_loss: 1.2866 - val_accuracy: 0.4094\n",
      "Epoch 4/5\n",
      "2700/2700 [==============================] - 5s 2ms/step - loss: 1.2619 - accuracy: 0.4244 - val_loss: 1.2261 - val_accuracy: 0.4512\n",
      "Epoch 5/5\n",
      "2700/2700 [==============================] - 5s 2ms/step - loss: 1.1998 - accuracy: 0.4608 - val_loss: 1.1619 - val_accuracy: 0.4839\n",
      "675/675 [==============================] - 1s 1ms/step - loss: 1.1677 - accuracy: 0.4771\n",
      "Epoch 1/5\n",
      "2700/2700 [==============================] - 5s 2ms/step - loss: 1.3763 - accuracy: 0.2856 - val_loss: 1.3596 - val_accuracy: 0.3326\n",
      "Epoch 2/5\n",
      "2700/2700 [==============================] - 5s 2ms/step - loss: 1.3375 - accuracy: 0.3743 - val_loss: 1.3094 - val_accuracy: 0.4237\n",
      "Epoch 3/5\n",
      "2700/2700 [==============================] - 5s 2ms/step - loss: 1.2753 - accuracy: 0.4563 - val_loss: 1.2368 - val_accuracy: 0.4967\n",
      "Epoch 4/5\n",
      "2700/2700 [==============================] - 5s 2ms/step - loss: 1.1981 - accuracy: 0.5223 - val_loss: 1.1569 - val_accuracy: 0.5559\n",
      "Epoch 5/5\n",
      "2700/2700 [==============================] - 5s 2ms/step - loss: 1.1176 - accuracy: 0.5797 - val_loss: 1.0775 - val_accuracy: 0.6009\n",
      "675/675 [==============================] - 1s 1ms/step - loss: 1.0741 - accuracy: 0.6092\n",
      "Epoch 1/5\n",
      "2700/2700 [==============================] - 5s 2ms/step - loss: 1.3790 - accuracy: 0.2965 - val_loss: 1.3692 - val_accuracy: 0.3279\n",
      "Epoch 2/5\n",
      "2700/2700 [==============================] - 5s 2ms/step - loss: 1.3545 - accuracy: 0.3535 - val_loss: 1.3366 - val_accuracy: 0.3722\n",
      "Epoch 3/5\n",
      "2700/2700 [==============================] - 5s 2ms/step - loss: 1.3136 - accuracy: 0.4015 - val_loss: 1.2884 - val_accuracy: 0.4277\n",
      "Epoch 4/5\n",
      "2700/2700 [==============================] - 5s 2ms/step - loss: 1.2607 - accuracy: 0.4525 - val_loss: 1.2323 - val_accuracy: 0.4787\n",
      "Epoch 5/5\n",
      "2700/2700 [==============================] - 5s 2ms/step - loss: 1.2036 - accuracy: 0.5038 - val_loss: 1.1750 - val_accuracy: 0.5261\n",
      "675/675 [==============================] - 1s 1ms/step - loss: 1.1766 - accuracy: 0.5285\n",
      "Epoch 1/5\n",
      "2700/2700 [==============================] - 6s 2ms/step - loss: 1.3818 - accuracy: 0.2528 - val_loss: 1.3706 - val_accuracy: 0.2875\n",
      "Epoch 2/5\n",
      "2700/2700 [==============================] - 5s 2ms/step - loss: 1.3547 - accuracy: 0.3303 - val_loss: 1.3320 - val_accuracy: 0.3946\n",
      "Epoch 3/5\n",
      "2700/2700 [==============================] - 5s 2ms/step - loss: 1.2936 - accuracy: 0.4496 - val_loss: 1.2474 - val_accuracy: 0.5030\n",
      "Epoch 4/5\n",
      "2700/2700 [==============================] - 5s 2ms/step - loss: 1.1858 - accuracy: 0.5640 - val_loss: 1.1214 - val_accuracy: 0.6198\n",
      "Epoch 5/5\n",
      "2700/2700 [==============================] - 5s 2ms/step - loss: 1.0491 - accuracy: 0.6856 - val_loss: 0.9817 - val_accuracy: 0.7301\n",
      "675/675 [==============================] - 1s 1ms/step - loss: 0.9750 - accuracy: 0.7445\n",
      "Epoch 1/5\n",
      "2700/2700 [==============================] - 6s 2ms/step - loss: 1.3752 - accuracy: 0.3064 - val_loss: 1.3534 - val_accuracy: 0.3751\n",
      "Epoch 2/5\n",
      "2700/2700 [==============================] - 5s 2ms/step - loss: 1.3168 - accuracy: 0.4360 - val_loss: 1.2690 - val_accuracy: 0.5052\n",
      "Epoch 3/5\n",
      "2700/2700 [==============================] - 5s 2ms/step - loss: 1.2105 - accuracy: 0.5488 - val_loss: 1.1488 - val_accuracy: 0.5853\n",
      "Epoch 4/5\n",
      "2700/2700 [==============================] - 5s 2ms/step - loss: 1.0850 - accuracy: 0.6152 - val_loss: 1.0208 - val_accuracy: 0.6417\n",
      "Epoch 5/5\n",
      "2700/2700 [==============================] - 5s 2ms/step - loss: 0.9600 - accuracy: 0.6648 - val_loss: 0.9029 - val_accuracy: 0.6923\n",
      "675/675 [==============================] - 1s 1ms/step - loss: 0.9041 - accuracy: 0.6938\n",
      "Epoch 1/5\n",
      "2700/2700 [==============================] - 6s 2ms/step - loss: 1.3668 - accuracy: 0.3245 - val_loss: 1.3405 - val_accuracy: 0.4004\n",
      "Epoch 2/5\n",
      "2700/2700 [==============================] - 5s 2ms/step - loss: 1.3007 - accuracy: 0.4608 - val_loss: 1.2455 - val_accuracy: 0.5363\n",
      "Epoch 3/5\n",
      "2700/2700 [==============================] - 5s 2ms/step - loss: 1.1780 - accuracy: 0.5835 - val_loss: 1.1007 - val_accuracy: 0.6310\n",
      "Epoch 4/5\n",
      "2700/2700 [==============================] - 5s 2ms/step - loss: 1.0253 - accuracy: 0.6681 - val_loss: 0.9497 - val_accuracy: 0.6995\n",
      "Epoch 5/5\n",
      "2700/2700 [==============================] - 5s 2ms/step - loss: 0.8833 - accuracy: 0.7269 - val_loss: 0.8239 - val_accuracy: 0.7458\n",
      "675/675 [==============================] - 1s 1ms/step - loss: 0.8273 - accuracy: 0.7450\n",
      "Epoch 1/5\n",
      "2700/2700 [==============================] - 5s 2ms/step - loss: 1.3632 - accuracy: 0.3418 - val_loss: 1.3319 - val_accuracy: 0.4367\n",
      "Epoch 2/5\n",
      "2700/2700 [==============================] - 5s 2ms/step - loss: 1.2774 - accuracy: 0.5226 - val_loss: 1.2166 - val_accuracy: 0.5919\n",
      "Epoch 3/5\n",
      "2700/2700 [==============================] - 5s 2ms/step - loss: 1.1468 - accuracy: 0.6382 - val_loss: 1.0811 - val_accuracy: 0.6769\n",
      "Epoch 4/5\n",
      "2700/2700 [==============================] - 5s 2ms/step - loss: 1.0149 - accuracy: 0.7065 - val_loss: 0.9550 - val_accuracy: 0.7336\n",
      "Epoch 5/5\n",
      "2700/2700 [==============================] - 5s 2ms/step - loss: 0.8962 - accuracy: 0.7485 - val_loss: 0.8445 - val_accuracy: 0.7657\n",
      "675/675 [==============================] - 1s 1ms/step - loss: 0.8385 - accuracy: 0.7695\n",
      "Epoch 1/5\n",
      "2700/2700 [==============================] - 6s 2ms/step - loss: 1.3779 - accuracy: 0.2833 - val_loss: 1.3641 - val_accuracy: 0.3317\n",
      "Epoch 2/5\n",
      "2700/2700 [==============================] - 5s 2ms/step - loss: 1.3363 - accuracy: 0.4111 - val_loss: 1.3036 - val_accuracy: 0.4743\n",
      "Epoch 3/5\n",
      "2700/2700 [==============================] - 5s 2ms/step - loss: 1.2535 - accuracy: 0.5314 - val_loss: 1.2045 - val_accuracy: 0.5695\n",
      "Epoch 4/5\n",
      "2700/2700 [==============================] - 5s 2ms/step - loss: 1.1444 - accuracy: 0.6072 - val_loss: 1.0920 - val_accuracy: 0.6321\n",
      "Epoch 5/5\n",
      "2700/2700 [==============================] - 5s 2ms/step - loss: 1.0318 - accuracy: 0.6665 - val_loss: 0.9839 - val_accuracy: 0.6819\n",
      "675/675 [==============================] - 1s 1ms/step - loss: 0.9836 - accuracy: 0.6860\n",
      "Epoch 1/5\n",
      "2700/2700 [==============================] - 6s 2ms/step - loss: 1.3711 - accuracy: 0.3340 - val_loss: 1.3450 - val_accuracy: 0.4418\n",
      "Epoch 2/5\n",
      "2700/2700 [==============================] - 5s 2ms/step - loss: 1.2858 - accuracy: 0.5476 - val_loss: 1.2061 - val_accuracy: 0.6280\n",
      "Epoch 3/5\n",
      "2700/2700 [==============================] - 5s 2ms/step - loss: 1.0978 - accuracy: 0.6871 - val_loss: 0.9921 - val_accuracy: 0.7243\n",
      "Epoch 4/5\n",
      "2700/2700 [==============================] - 5s 2ms/step - loss: 0.8918 - accuracy: 0.7544 - val_loss: 0.8096 - val_accuracy: 0.7688\n",
      "Epoch 5/5\n",
      "2700/2700 [==============================] - 5s 2ms/step - loss: 0.7381 - accuracy: 0.7871 - val_loss: 0.6872 - val_accuracy: 0.7941\n",
      "675/675 [==============================] - 1s 1ms/step - loss: 0.6815 - accuracy: 0.7946\n",
      "Epoch 1/5\n",
      "2700/2700 [==============================] - 6s 2ms/step - loss: 1.3674 - accuracy: 0.3316 - val_loss: 1.3333 - val_accuracy: 0.4296\n",
      "Epoch 2/5\n",
      "2700/2700 [==============================] - 5s 2ms/step - loss: 1.2625 - accuracy: 0.5293 - val_loss: 1.1750 - val_accuracy: 0.6208\n",
      "Epoch 3/5\n",
      "2700/2700 [==============================] - 6s 2ms/step - loss: 1.0611 - accuracy: 0.6840 - val_loss: 0.9578 - val_accuracy: 0.7192\n",
      "Epoch 4/5\n",
      "2700/2700 [==============================] - 5s 2ms/step - loss: 0.8594 - accuracy: 0.7531 - val_loss: 0.7861 - val_accuracy: 0.7655\n",
      "Epoch 5/5\n",
      "2700/2700 [==============================] - 5s 2ms/step - loss: 0.7175 - accuracy: 0.7854 - val_loss: 0.6751 - val_accuracy: 0.7897\n",
      "675/675 [==============================] - 1s 1ms/step - loss: 0.6701 - accuracy: 0.7911\n",
      "Epoch 1/5\n",
      "2700/2700 [==============================] - 6s 2ms/step - loss: 1.3748 - accuracy: 0.3146 - val_loss: 1.3462 - val_accuracy: 0.4048\n",
      "Epoch 2/5\n",
      "2700/2700 [==============================] - 5s 2ms/step - loss: 1.2947 - accuracy: 0.4938 - val_loss: 1.2330 - val_accuracy: 0.5543\n",
      "Epoch 3/5\n",
      "2700/2700 [==============================] - 6s 2ms/step - loss: 1.1470 - accuracy: 0.6078 - val_loss: 1.0631 - val_accuracy: 0.6489\n",
      "Epoch 4/5\n",
      "2700/2700 [==============================] - 5s 2ms/step - loss: 0.9664 - accuracy: 0.6994 - val_loss: 0.8885 - val_accuracy: 0.7313\n",
      "Epoch 5/5\n",
      "2700/2700 [==============================] - 5s 2ms/step - loss: 0.8067 - accuracy: 0.7633 - val_loss: 0.7520 - val_accuracy: 0.7775\n",
      "675/675 [==============================] - 1s 1ms/step - loss: 0.7476 - accuracy: 0.7814\n",
      "Epoch 1/5\n",
      "2700/2700 [==============================] - 6s 2ms/step - loss: 1.3555 - accuracy: 0.3716 - val_loss: 1.3141 - val_accuracy: 0.4906\n",
      "Epoch 2/5\n",
      "2700/2700 [==============================] - 5s 2ms/step - loss: 1.2344 - accuracy: 0.5911 - val_loss: 1.1361 - val_accuracy: 0.6721\n",
      "Epoch 3/5\n",
      "2700/2700 [==============================] - 6s 2ms/step - loss: 1.0184 - accuracy: 0.7160 - val_loss: 0.9106 - val_accuracy: 0.7478\n",
      "Epoch 4/5\n",
      "2700/2700 [==============================] - 5s 2ms/step - loss: 0.8195 - accuracy: 0.7663 - val_loss: 0.7491 - val_accuracy: 0.7823\n",
      "Epoch 5/5\n",
      "2700/2700 [==============================] - 6s 2ms/step - loss: 0.6887 - accuracy: 0.7904 - val_loss: 0.6495 - val_accuracy: 0.7976\n",
      "675/675 [==============================] - 1s 1ms/step - loss: 0.6405 - accuracy: 0.7989\n",
      "Epoch 1/5\n",
      "2700/2700 [==============================] - 6s 2ms/step - loss: 1.3564 - accuracy: 0.3601 - val_loss: 1.3121 - val_accuracy: 0.4688\n",
      "Epoch 2/5\n",
      "2700/2700 [==============================] - 5s 2ms/step - loss: 1.2296 - accuracy: 0.5644 - val_loss: 1.1346 - val_accuracy: 0.6367\n",
      "Epoch 3/5\n",
      "2700/2700 [==============================] - 5s 2ms/step - loss: 1.0216 - accuracy: 0.6880 - val_loss: 0.9189 - val_accuracy: 0.7247\n",
      "Epoch 4/5\n",
      "2700/2700 [==============================] - 6s 2ms/step - loss: 0.8269 - accuracy: 0.7592 - val_loss: 0.7552 - val_accuracy: 0.7743\n",
      "Epoch 5/5\n",
      "2700/2700 [==============================] - 5s 2ms/step - loss: 0.6930 - accuracy: 0.7906 - val_loss: 0.6523 - val_accuracy: 0.7963\n",
      "675/675 [==============================] - 1s 1ms/step - loss: 0.6496 - accuracy: 0.7994\n",
      "Epoch 1/5\n",
      "3375/3375 [==============================] - 7s 2ms/step - loss: 0.7227 - accuracy: 0.7483 - val_loss: 0.4663 - val_accuracy: 0.8416\n",
      "Epoch 2/5\n",
      "3375/3375 [==============================] - 6s 2ms/step - loss: 0.4321 - accuracy: 0.8508 - val_loss: 0.4342 - val_accuracy: 0.8500\n",
      "Epoch 3/5\n",
      "3375/3375 [==============================] - 6s 2ms/step - loss: 0.4102 - accuracy: 0.8562 - val_loss: 0.4253 - val_accuracy: 0.8506\n",
      "Epoch 4/5\n",
      "3375/3375 [==============================] - 7s 2ms/step - loss: 0.4000 - accuracy: 0.8581 - val_loss: 0.4184 - val_accuracy: 0.8512\n",
      "Epoch 5/5\n",
      "3375/3375 [==============================] - 7s 2ms/step - loss: 0.3931 - accuracy: 0.8599 - val_loss: 0.4157 - val_accuracy: 0.8515\n"
     ]
    },
    {
     "data": {
      "text/plain": [
       "GridSearchCV(estimator=<keras.wrappers.scikit_learn.KerasRegressor object at 0x7f2e355bd350>,\n",
       "             param_grid={'learning_rate': [0.0001, 1e-05],\n",
       "                         'n_units': [8, 16, 32]})"
      ]
     },
     "execution_count": 40,
     "metadata": {},
     "output_type": "execute_result"
    }
   ],
   "source": [
    "\n",
    "grid_search.fit(X_train.numpy(), y_train.numpy(), epochs=5,#The number of epochs can be modified (check what happens by increasing it)\n",
    "                validation_data=(X_valid.numpy(), y_valid.numpy()))"
   ]
  },
  {
   "cell_type": "markdown",
   "metadata": {
    "id": "aadmkiOoyM94"
   },
   "source": [
    "Print the best hyper-parameters, and evealuate the best model on the test set."
   ]
  },
  {
   "cell_type": "code",
   "execution_count": null,
   "metadata": {
    "colab": {
     "base_uri": "https://localhost:8080/"
    },
    "id": "b0nL5OZkylNX",
    "outputId": "142c69f6-778e-4bf2-c4ce-0f24332e85aa"
   },
   "outputs": [
    {
     "name": "stdout",
     "output_type": "stream",
     "text": [
      "{'learning_rate': 0.0001, 'n_units': 32}\n",
      "238/238 [==============================] - 0s 2ms/step - loss: 0.4237 - accuracy: 0.8482\n"
     ]
    },
    {
     "data": {
      "text/plain": [
       "[0.42365410923957825, 0.8481578826904297]"
      ]
     },
     "execution_count": 42,
     "metadata": {},
     "output_type": "execute_result"
    }
   ],
   "source": [
    "print(grid_search.best_params_)\n",
    "\n",
    "model = grid_search.best_estimator_.model\n",
    "model.evaluate(X_test, y_test)"
   ]
  }
 ],
 "metadata": {
  "colab": {
   "collapsed_sections": [],
   "name": "HW2.ipynb",
   "provenance": []
  },
  "kernelspec": {
   "display_name": "Python 3",
   "language": "python",
   "name": "python3"
  },
  "language_info": {
   "codemirror_mode": {
    "name": "ipython",
    "version": 3
   },
   "file_extension": ".py",
   "mimetype": "text/x-python",
   "name": "python",
   "nbconvert_exporter": "python",
   "pygments_lexer": "ipython3",
   "version": "3.8.8"
  },
  "widgets": {
   "application/vnd.jupyter.widget-state+json": {
    "01ca6cc0ece14334991860cdd3842825": {
     "model_module": "@jupyter-widgets/base",
     "model_module_version": "1.2.0",
     "model_name": "LayoutModel",
     "state": {
      "_model_module": "@jupyter-widgets/base",
      "_model_module_version": "1.2.0",
      "_model_name": "LayoutModel",
      "_view_count": null,
      "_view_module": "@jupyter-widgets/base",
      "_view_module_version": "1.2.0",
      "_view_name": "LayoutView",
      "align_content": null,
      "align_items": null,
      "align_self": null,
      "border": null,
      "bottom": null,
      "display": null,
      "flex": null,
      "flex_flow": null,
      "grid_area": null,
      "grid_auto_columns": null,
      "grid_auto_flow": null,
      "grid_auto_rows": null,
      "grid_column": null,
      "grid_gap": null,
      "grid_row": null,
      "grid_template_areas": null,
      "grid_template_columns": null,
      "grid_template_rows": null,
      "height": null,
      "justify_content": null,
      "justify_items": null,
      "left": null,
      "margin": null,
      "max_height": null,
      "max_width": null,
      "min_height": null,
      "min_width": null,
      "object_fit": null,
      "object_position": null,
      "order": null,
      "overflow": null,
      "overflow_x": null,
      "overflow_y": null,
      "padding": null,
      "right": null,
      "top": null,
      "visibility": null,
      "width": null
     }
    },
    "03de3f8a728b499cb4995ed549bfb5c1": {
     "model_module": "@jupyter-widgets/controls",
     "model_module_version": "1.5.0",
     "model_name": "HTMLModel",
     "state": {
      "_dom_classes": [],
      "_model_module": "@jupyter-widgets/controls",
      "_model_module_version": "1.5.0",
      "_model_name": "HTMLModel",
      "_view_count": null,
      "_view_module": "@jupyter-widgets/controls",
      "_view_module_version": "1.5.0",
      "_view_name": "HTMLView",
      "description": "",
      "description_tooltip": null,
      "layout": "IPY_MODEL_44cbc46c3931499692ea49351bafee85",
      "placeholder": "​",
      "style": "IPY_MODEL_bb7aef0b52f54bcf846c77a5dfa39444",
      "value": "Dl Completed...: "
     }
    },
    "04096a99372f418593105aec6035b1fc": {
     "model_module": "@jupyter-widgets/base",
     "model_module_version": "1.2.0",
     "model_name": "LayoutModel",
     "state": {
      "_model_module": "@jupyter-widgets/base",
      "_model_module_version": "1.2.0",
      "_model_name": "LayoutModel",
      "_view_count": null,
      "_view_module": "@jupyter-widgets/base",
      "_view_module_version": "1.2.0",
      "_view_name": "LayoutView",
      "align_content": null,
      "align_items": null,
      "align_self": null,
      "border": null,
      "bottom": null,
      "display": null,
      "flex": null,
      "flex_flow": null,
      "grid_area": null,
      "grid_auto_columns": null,
      "grid_auto_flow": null,
      "grid_auto_rows": null,
      "grid_column": null,
      "grid_gap": null,
      "grid_row": null,
      "grid_template_areas": null,
      "grid_template_columns": null,
      "grid_template_rows": null,
      "height": null,
      "justify_content": null,
      "justify_items": null,
      "left": null,
      "margin": null,
      "max_height": null,
      "max_width": null,
      "min_height": null,
      "min_width": null,
      "object_fit": null,
      "object_position": null,
      "order": null,
      "overflow": null,
      "overflow_x": null,
      "overflow_y": null,
      "padding": null,
      "right": null,
      "top": null,
      "visibility": null,
      "width": "20px"
     }
    },
    "0b14d1f102194fa1bf5254a99d991a29": {
     "model_module": "@jupyter-widgets/base",
     "model_module_version": "1.2.0",
     "model_name": "LayoutModel",
     "state": {
      "_model_module": "@jupyter-widgets/base",
      "_model_module_version": "1.2.0",
      "_model_name": "LayoutModel",
      "_view_count": null,
      "_view_module": "@jupyter-widgets/base",
      "_view_module_version": "1.2.0",
      "_view_name": "LayoutView",
      "align_content": null,
      "align_items": null,
      "align_self": null,
      "border": null,
      "bottom": null,
      "display": null,
      "flex": null,
      "flex_flow": null,
      "grid_area": null,
      "grid_auto_columns": null,
      "grid_auto_flow": null,
      "grid_auto_rows": null,
      "grid_column": null,
      "grid_gap": null,
      "grid_row": null,
      "grid_template_areas": null,
      "grid_template_columns": null,
      "grid_template_rows": null,
      "height": null,
      "justify_content": null,
      "justify_items": null,
      "left": null,
      "margin": null,
      "max_height": null,
      "max_width": null,
      "min_height": null,
      "min_width": null,
      "object_fit": null,
      "object_position": null,
      "order": null,
      "overflow": null,
      "overflow_x": null,
      "overflow_y": null,
      "padding": null,
      "right": null,
      "top": null,
      "visibility": null,
      "width": null
     }
    },
    "10bb733806414d059a59443432b8117f": {
     "model_module": "@jupyter-widgets/controls",
     "model_module_version": "1.5.0",
     "model_name": "HBoxModel",
     "state": {
      "_dom_classes": [],
      "_model_module": "@jupyter-widgets/controls",
      "_model_module_version": "1.5.0",
      "_model_name": "HBoxModel",
      "_view_count": null,
      "_view_module": "@jupyter-widgets/controls",
      "_view_module_version": "1.5.0",
      "_view_name": "HBoxView",
      "box_style": "",
      "children": [
       "IPY_MODEL_3a2c56c43bae4da9a42f0283282bc974",
       "IPY_MODEL_56cce75c6c6641128fc2966d594319f2",
       "IPY_MODEL_8e25830b20424c5ab7edd263f591245d"
      ],
      "layout": "IPY_MODEL_f98b79b1601549e48f84c6716e29d570"
     }
    },
    "123b6d597b72486eb458b247303bba61": {
     "model_module": "@jupyter-widgets/controls",
     "model_module_version": "1.5.0",
     "model_name": "HTMLModel",
     "state": {
      "_dom_classes": [],
      "_model_module": "@jupyter-widgets/controls",
      "_model_module_version": "1.5.0",
      "_model_name": "HTMLModel",
      "_view_count": null,
      "_view_module": "@jupyter-widgets/controls",
      "_view_module_version": "1.5.0",
      "_view_name": "HTMLView",
      "description": "",
      "description_tooltip": null,
      "layout": "IPY_MODEL_17fd05588dd74bf3ac40dab95e546350",
      "placeholder": "​",
      "style": "IPY_MODEL_cdc64fe644f2449bbd93e448e7016107",
      "value": ""
     }
    },
    "1426f2abf2cb4540b19150ba3fb2c140": {
     "model_module": "@jupyter-widgets/base",
     "model_module_version": "1.2.0",
     "model_name": "LayoutModel",
     "state": {
      "_model_module": "@jupyter-widgets/base",
      "_model_module_version": "1.2.0",
      "_model_name": "LayoutModel",
      "_view_count": null,
      "_view_module": "@jupyter-widgets/base",
      "_view_module_version": "1.2.0",
      "_view_name": "LayoutView",
      "align_content": null,
      "align_items": null,
      "align_self": null,
      "border": null,
      "bottom": null,
      "display": null,
      "flex": null,
      "flex_flow": null,
      "grid_area": null,
      "grid_auto_columns": null,
      "grid_auto_flow": null,
      "grid_auto_rows": null,
      "grid_column": null,
      "grid_gap": null,
      "grid_row": null,
      "grid_template_areas": null,
      "grid_template_columns": null,
      "grid_template_rows": null,
      "height": null,
      "justify_content": null,
      "justify_items": null,
      "left": null,
      "margin": null,
      "max_height": null,
      "max_width": null,
      "min_height": null,
      "min_width": null,
      "object_fit": null,
      "object_position": null,
      "order": null,
      "overflow": null,
      "overflow_x": null,
      "overflow_y": null,
      "padding": null,
      "right": null,
      "top": null,
      "visibility": null,
      "width": null
     }
    },
    "17fd05588dd74bf3ac40dab95e546350": {
     "model_module": "@jupyter-widgets/base",
     "model_module_version": "1.2.0",
     "model_name": "LayoutModel",
     "state": {
      "_model_module": "@jupyter-widgets/base",
      "_model_module_version": "1.2.0",
      "_model_name": "LayoutModel",
      "_view_count": null,
      "_view_module": "@jupyter-widgets/base",
      "_view_module_version": "1.2.0",
      "_view_name": "LayoutView",
      "align_content": null,
      "align_items": null,
      "align_self": null,
      "border": null,
      "bottom": null,
      "display": null,
      "flex": null,
      "flex_flow": null,
      "grid_area": null,
      "grid_auto_columns": null,
      "grid_auto_flow": null,
      "grid_auto_rows": null,
      "grid_column": null,
      "grid_gap": null,
      "grid_row": null,
      "grid_template_areas": null,
      "grid_template_columns": null,
      "grid_template_rows": null,
      "height": null,
      "justify_content": null,
      "justify_items": null,
      "left": null,
      "margin": null,
      "max_height": null,
      "max_width": null,
      "min_height": null,
      "min_width": null,
      "object_fit": null,
      "object_position": null,
      "order": null,
      "overflow": null,
      "overflow_x": null,
      "overflow_y": null,
      "padding": null,
      "right": null,
      "top": null,
      "visibility": null,
      "width": null
     }
    },
    "1a006d3d18fc4780916bbb50ca8280f4": {
     "model_module": "@jupyter-widgets/controls",
     "model_module_version": "1.5.0",
     "model_name": "DescriptionStyleModel",
     "state": {
      "_model_module": "@jupyter-widgets/controls",
      "_model_module_version": "1.5.0",
      "_model_name": "DescriptionStyleModel",
      "_view_count": null,
      "_view_module": "@jupyter-widgets/base",
      "_view_module_version": "1.2.0",
      "_view_name": "StyleView",
      "description_width": ""
     }
    },
    "1e8b8b440d084d1f9503d325a723a6b1": {
     "model_module": "@jupyter-widgets/controls",
     "model_module_version": "1.5.0",
     "model_name": "DescriptionStyleModel",
     "state": {
      "_model_module": "@jupyter-widgets/controls",
      "_model_module_version": "1.5.0",
      "_model_name": "DescriptionStyleModel",
      "_view_count": null,
      "_view_module": "@jupyter-widgets/base",
      "_view_module_version": "1.2.0",
      "_view_name": "StyleView",
      "description_width": ""
     }
    },
    "1ffc0415bc89483f9679d66e092aa916": {
     "model_module": "@jupyter-widgets/controls",
     "model_module_version": "1.5.0",
     "model_name": "DescriptionStyleModel",
     "state": {
      "_model_module": "@jupyter-widgets/controls",
      "_model_module_version": "1.5.0",
      "_model_name": "DescriptionStyleModel",
      "_view_count": null,
      "_view_module": "@jupyter-widgets/base",
      "_view_module_version": "1.2.0",
      "_view_name": "StyleView",
      "description_width": ""
     }
    },
    "221168ec2a294d2a97c26cf08f9931b7": {
     "model_module": "@jupyter-widgets/controls",
     "model_module_version": "1.5.0",
     "model_name": "HBoxModel",
     "state": {
      "_dom_classes": [],
      "_model_module": "@jupyter-widgets/controls",
      "_model_module_version": "1.5.0",
      "_model_name": "HBoxModel",
      "_view_count": null,
      "_view_module": "@jupyter-widgets/controls",
      "_view_module_version": "1.5.0",
      "_view_name": "HBoxView",
      "box_style": "",
      "children": [
       "IPY_MODEL_aa38c8069fc340df8ea2e64224656fe8",
       "IPY_MODEL_ae9a0d6e90e14851afabd19028cee435",
       "IPY_MODEL_490ef05894254b87998de8104ea4607a"
      ],
      "layout": "IPY_MODEL_0b14d1f102194fa1bf5254a99d991a29"
     }
    },
    "25c66373cbd14db39f112939de2db3a0": {
     "model_module": "@jupyter-widgets/controls",
     "model_module_version": "1.5.0",
     "model_name": "HTMLModel",
     "state": {
      "_dom_classes": [],
      "_model_module": "@jupyter-widgets/controls",
      "_model_module_version": "1.5.0",
      "_model_name": "HTMLModel",
      "_view_count": null,
      "_view_module": "@jupyter-widgets/controls",
      "_view_module_version": "1.5.0",
      "_view_name": "HTMLView",
      "description": "",
      "description_tooltip": null,
      "layout": "IPY_MODEL_6e359d730e4b42e991f043617fd6e683",
      "placeholder": "​",
      "style": "IPY_MODEL_e69f17b9f00a44a9843609e7a4db545b",
      "value": "Dl Size...: "
     }
    },
    "2c9a0c4ab54f4309a6173114f383d244": {
     "model_module": "@jupyter-widgets/controls",
     "model_module_version": "1.5.0",
     "model_name": "HBoxModel",
     "state": {
      "_dom_classes": [],
      "_model_module": "@jupyter-widgets/controls",
      "_model_module_version": "1.5.0",
      "_model_name": "HBoxModel",
      "_view_count": null,
      "_view_module": "@jupyter-widgets/controls",
      "_view_module_version": "1.5.0",
      "_view_name": "HBoxView",
      "box_style": "",
      "children": [
       "IPY_MODEL_b440b2fd7eca460db3df50802cfef9c9",
       "IPY_MODEL_5fcf907ab7f94cdab85842f12020eade",
       "IPY_MODEL_68a67414ddd14c52afecafa0b56acf16"
      ],
      "layout": "IPY_MODEL_8a81944518be424aa73f639e957462e5"
     }
    },
    "2fe6740076884ddaa61e2dcd7fa769c4": {
     "model_module": "@jupyter-widgets/base",
     "model_module_version": "1.2.0",
     "model_name": "LayoutModel",
     "state": {
      "_model_module": "@jupyter-widgets/base",
      "_model_module_version": "1.2.0",
      "_model_name": "LayoutModel",
      "_view_count": null,
      "_view_module": "@jupyter-widgets/base",
      "_view_module_version": "1.2.0",
      "_view_name": "LayoutView",
      "align_content": null,
      "align_items": null,
      "align_self": null,
      "border": null,
      "bottom": null,
      "display": null,
      "flex": null,
      "flex_flow": null,
      "grid_area": null,
      "grid_auto_columns": null,
      "grid_auto_flow": null,
      "grid_auto_rows": null,
      "grid_column": null,
      "grid_gap": null,
      "grid_row": null,
      "grid_template_areas": null,
      "grid_template_columns": null,
      "grid_template_rows": null,
      "height": null,
      "justify_content": null,
      "justify_items": null,
      "left": null,
      "margin": null,
      "max_height": null,
      "max_width": null,
      "min_height": null,
      "min_width": null,
      "object_fit": null,
      "object_position": null,
      "order": null,
      "overflow": null,
      "overflow_x": null,
      "overflow_y": null,
      "padding": null,
      "right": null,
      "top": null,
      "visibility": null,
      "width": null
     }
    },
    "35da004ab8134712a043b632b01f2bc4": {
     "model_module": "@jupyter-widgets/base",
     "model_module_version": "1.2.0",
     "model_name": "LayoutModel",
     "state": {
      "_model_module": "@jupyter-widgets/base",
      "_model_module_version": "1.2.0",
      "_model_name": "LayoutModel",
      "_view_count": null,
      "_view_module": "@jupyter-widgets/base",
      "_view_module_version": "1.2.0",
      "_view_name": "LayoutView",
      "align_content": null,
      "align_items": null,
      "align_self": null,
      "border": null,
      "bottom": null,
      "display": null,
      "flex": null,
      "flex_flow": null,
      "grid_area": null,
      "grid_auto_columns": null,
      "grid_auto_flow": null,
      "grid_auto_rows": null,
      "grid_column": null,
      "grid_gap": null,
      "grid_row": null,
      "grid_template_areas": null,
      "grid_template_columns": null,
      "grid_template_rows": null,
      "height": null,
      "justify_content": null,
      "justify_items": null,
      "left": null,
      "margin": null,
      "max_height": null,
      "max_width": null,
      "min_height": null,
      "min_width": null,
      "object_fit": null,
      "object_position": null,
      "order": null,
      "overflow": null,
      "overflow_x": null,
      "overflow_y": null,
      "padding": null,
      "right": null,
      "top": null,
      "visibility": null,
      "width": null
     }
    },
    "3a2c56c43bae4da9a42f0283282bc974": {
     "model_module": "@jupyter-widgets/controls",
     "model_module_version": "1.5.0",
     "model_name": "HTMLModel",
     "state": {
      "_dom_classes": [],
      "_model_module": "@jupyter-widgets/controls",
      "_model_module_version": "1.5.0",
      "_model_name": "HTMLModel",
      "_view_count": null,
      "_view_module": "@jupyter-widgets/controls",
      "_view_module_version": "1.5.0",
      "_view_name": "HTMLView",
      "description": "",
      "description_tooltip": null,
      "layout": "IPY_MODEL_61ee69512ad343bda82950b14259c593",
      "placeholder": "​",
      "style": "IPY_MODEL_1e8b8b440d084d1f9503d325a723a6b1",
      "value": "100%"
     }
    },
    "3b40c4d3ce764dccbf7b6b4847888096": {
     "model_module": "@jupyter-widgets/controls",
     "model_module_version": "1.5.0",
     "model_name": "ProgressStyleModel",
     "state": {
      "_model_module": "@jupyter-widgets/controls",
      "_model_module_version": "1.5.0",
      "_model_name": "ProgressStyleModel",
      "_view_count": null,
      "_view_module": "@jupyter-widgets/base",
      "_view_module_version": "1.2.0",
      "_view_name": "StyleView",
      "bar_color": null,
      "description_width": ""
     }
    },
    "3ba5ce44db1748bb94523cc2cf71f317": {
     "model_module": "@jupyter-widgets/base",
     "model_module_version": "1.2.0",
     "model_name": "LayoutModel",
     "state": {
      "_model_module": "@jupyter-widgets/base",
      "_model_module_version": "1.2.0",
      "_model_name": "LayoutModel",
      "_view_count": null,
      "_view_module": "@jupyter-widgets/base",
      "_view_module_version": "1.2.0",
      "_view_name": "LayoutView",
      "align_content": null,
      "align_items": null,
      "align_self": null,
      "border": null,
      "bottom": null,
      "display": null,
      "flex": null,
      "flex_flow": null,
      "grid_area": null,
      "grid_auto_columns": null,
      "grid_auto_flow": null,
      "grid_auto_rows": null,
      "grid_column": null,
      "grid_gap": null,
      "grid_row": null,
      "grid_template_areas": null,
      "grid_template_columns": null,
      "grid_template_rows": null,
      "height": null,
      "justify_content": null,
      "justify_items": null,
      "left": null,
      "margin": null,
      "max_height": null,
      "max_width": null,
      "min_height": null,
      "min_width": null,
      "object_fit": null,
      "object_position": null,
      "order": null,
      "overflow": null,
      "overflow_x": null,
      "overflow_y": null,
      "padding": null,
      "right": null,
      "top": null,
      "visibility": null,
      "width": null
     }
    },
    "3c40e5f2facf480ca99447ea201736b0": {
     "model_module": "@jupyter-widgets/controls",
     "model_module_version": "1.5.0",
     "model_name": "ProgressStyleModel",
     "state": {
      "_model_module": "@jupyter-widgets/controls",
      "_model_module_version": "1.5.0",
      "_model_name": "ProgressStyleModel",
      "_view_count": null,
      "_view_module": "@jupyter-widgets/base",
      "_view_module_version": "1.2.0",
      "_view_name": "StyleView",
      "bar_color": null,
      "description_width": ""
     }
    },
    "3d77a4bb8c4744dea672a6bf2e934575": {
     "model_module": "@jupyter-widgets/controls",
     "model_module_version": "1.5.0",
     "model_name": "HTMLModel",
     "state": {
      "_dom_classes": [],
      "_model_module": "@jupyter-widgets/controls",
      "_model_module_version": "1.5.0",
      "_model_name": "HTMLModel",
      "_view_count": null,
      "_view_module": "@jupyter-widgets/controls",
      "_view_module_version": "1.5.0",
      "_view_name": "HTMLView",
      "description": "",
      "description_tooltip": null,
      "layout": "IPY_MODEL_89917926e69b4e1bbad17d54ea722e65",
      "placeholder": "​",
      "style": "IPY_MODEL_acbe17a497ea4227b677466d631d0ae1",
      "value": " 7584/0 [00:01&lt;00:00, 3792.74 examples/s]"
     }
    },
    "42e39bf3515f42a893f71877de0f1966": {
     "model_module": "@jupyter-widgets/controls",
     "model_module_version": "1.5.0",
     "model_name": "DescriptionStyleModel",
     "state": {
      "_model_module": "@jupyter-widgets/controls",
      "_model_module_version": "1.5.0",
      "_model_name": "DescriptionStyleModel",
      "_view_count": null,
      "_view_module": "@jupyter-widgets/base",
      "_view_module_version": "1.2.0",
      "_view_name": "StyleView",
      "description_width": ""
     }
    },
    "44cbc46c3931499692ea49351bafee85": {
     "model_module": "@jupyter-widgets/base",
     "model_module_version": "1.2.0",
     "model_name": "LayoutModel",
     "state": {
      "_model_module": "@jupyter-widgets/base",
      "_model_module_version": "1.2.0",
      "_model_name": "LayoutModel",
      "_view_count": null,
      "_view_module": "@jupyter-widgets/base",
      "_view_module_version": "1.2.0",
      "_view_name": "LayoutView",
      "align_content": null,
      "align_items": null,
      "align_self": null,
      "border": null,
      "bottom": null,
      "display": null,
      "flex": null,
      "flex_flow": null,
      "grid_area": null,
      "grid_auto_columns": null,
      "grid_auto_flow": null,
      "grid_auto_rows": null,
      "grid_column": null,
      "grid_gap": null,
      "grid_row": null,
      "grid_template_areas": null,
      "grid_template_columns": null,
      "grid_template_rows": null,
      "height": null,
      "justify_content": null,
      "justify_items": null,
      "left": null,
      "margin": null,
      "max_height": null,
      "max_width": null,
      "min_height": null,
      "min_width": null,
      "object_fit": null,
      "object_position": null,
      "order": null,
      "overflow": null,
      "overflow_x": null,
      "overflow_y": null,
      "padding": null,
      "right": null,
      "top": null,
      "visibility": null,
      "width": null
     }
    },
    "490ef05894254b87998de8104ea4607a": {
     "model_module": "@jupyter-widgets/controls",
     "model_module_version": "1.5.0",
     "model_name": "HTMLModel",
     "state": {
      "_dom_classes": [],
      "_model_module": "@jupyter-widgets/controls",
      "_model_module_version": "1.5.0",
      "_model_name": "HTMLModel",
      "_view_count": null,
      "_view_module": "@jupyter-widgets/controls",
      "_view_module_version": "1.5.0",
      "_view_name": "HTMLView",
      "description": "",
      "description_tooltip": null,
      "layout": "IPY_MODEL_64ebbfeca6ef4af3a56b8fa445357db7",
      "placeholder": "​",
      "style": "IPY_MODEL_d4aaa5d1b96c432282ac4d2014ddedbe",
      "value": " 119874/0 [00:31&lt;00:00, 3973.76 examples/s]"
     }
    },
    "4a42ed23aca544138ebae835e80a979c": {
     "model_module": "@jupyter-widgets/base",
     "model_module_version": "1.2.0",
     "model_name": "LayoutModel",
     "state": {
      "_model_module": "@jupyter-widgets/base",
      "_model_module_version": "1.2.0",
      "_model_name": "LayoutModel",
      "_view_count": null,
      "_view_module": "@jupyter-widgets/base",
      "_view_module_version": "1.2.0",
      "_view_name": "LayoutView",
      "align_content": null,
      "align_items": null,
      "align_self": null,
      "border": null,
      "bottom": null,
      "display": null,
      "flex": null,
      "flex_flow": null,
      "grid_area": null,
      "grid_auto_columns": null,
      "grid_auto_flow": null,
      "grid_auto_rows": null,
      "grid_column": null,
      "grid_gap": null,
      "grid_row": null,
      "grid_template_areas": null,
      "grid_template_columns": null,
      "grid_template_rows": null,
      "height": null,
      "justify_content": null,
      "justify_items": null,
      "left": null,
      "margin": null,
      "max_height": null,
      "max_width": null,
      "min_height": null,
      "min_width": null,
      "object_fit": null,
      "object_position": null,
      "order": null,
      "overflow": null,
      "overflow_x": null,
      "overflow_y": null,
      "padding": null,
      "right": null,
      "top": null,
      "visibility": null,
      "width": null
     }
    },
    "4f2aa4f03b2245c3af74fa117437c1ee": {
     "model_module": "@jupyter-widgets/base",
     "model_module_version": "1.2.0",
     "model_name": "LayoutModel",
     "state": {
      "_model_module": "@jupyter-widgets/base",
      "_model_module_version": "1.2.0",
      "_model_name": "LayoutModel",
      "_view_count": null,
      "_view_module": "@jupyter-widgets/base",
      "_view_module_version": "1.2.0",
      "_view_name": "LayoutView",
      "align_content": null,
      "align_items": null,
      "align_self": null,
      "border": null,
      "bottom": null,
      "display": null,
      "flex": null,
      "flex_flow": null,
      "grid_area": null,
      "grid_auto_columns": null,
      "grid_auto_flow": null,
      "grid_auto_rows": null,
      "grid_column": null,
      "grid_gap": null,
      "grid_row": null,
      "grid_template_areas": null,
      "grid_template_columns": null,
      "grid_template_rows": null,
      "height": null,
      "justify_content": null,
      "justify_items": null,
      "left": null,
      "margin": null,
      "max_height": null,
      "max_width": null,
      "min_height": null,
      "min_width": null,
      "object_fit": null,
      "object_position": null,
      "order": null,
      "overflow": null,
      "overflow_x": null,
      "overflow_y": null,
      "padding": null,
      "right": null,
      "top": null,
      "visibility": null,
      "width": null
     }
    },
    "56cce75c6c6641128fc2966d594319f2": {
     "model_module": "@jupyter-widgets/controls",
     "model_module_version": "1.5.0",
     "model_name": "FloatProgressModel",
     "state": {
      "_dom_classes": [],
      "_model_module": "@jupyter-widgets/controls",
      "_model_module_version": "1.5.0",
      "_model_name": "FloatProgressModel",
      "_view_count": null,
      "_view_module": "@jupyter-widgets/controls",
      "_view_module_version": "1.5.0",
      "_view_name": "ProgressView",
      "bar_style": "danger",
      "description": "",
      "description_tooltip": null,
      "layout": "IPY_MODEL_1426f2abf2cb4540b19150ba3fb2c140",
      "max": 7600,
      "min": 0,
      "orientation": "horizontal",
      "style": "IPY_MODEL_cc133ff92f384260bee7c87950f663fc",
      "value": 7599
     }
    },
    "570a4efe44d943a8877127ab8e357ff0": {
     "model_module": "@jupyter-widgets/controls",
     "model_module_version": "1.5.0",
     "model_name": "DescriptionStyleModel",
     "state": {
      "_model_module": "@jupyter-widgets/controls",
      "_model_module_version": "1.5.0",
      "_model_name": "DescriptionStyleModel",
      "_view_count": null,
      "_view_module": "@jupyter-widgets/base",
      "_view_module_version": "1.2.0",
      "_view_name": "StyleView",
      "description_width": ""
     }
    },
    "597e830255b6481da87100279a118ea1": {
     "model_module": "@jupyter-widgets/controls",
     "model_module_version": "1.5.0",
     "model_name": "HBoxModel",
     "state": {
      "_dom_classes": [],
      "_model_module": "@jupyter-widgets/controls",
      "_model_module_version": "1.5.0",
      "_model_name": "HBoxModel",
      "_view_count": null,
      "_view_module": "@jupyter-widgets/controls",
      "_view_module_version": "1.5.0",
      "_view_name": "HBoxView",
      "box_style": "",
      "children": [
       "IPY_MODEL_123b6d597b72486eb458b247303bba61",
       "IPY_MODEL_91271271711a47d9a60ee1dcf93a41fd",
       "IPY_MODEL_3d77a4bb8c4744dea672a6bf2e934575"
      ],
      "layout": "IPY_MODEL_2fe6740076884ddaa61e2dcd7fa769c4"
     }
    },
    "5d0a72dc6b4a4282972567573625c508": {
     "model_module": "@jupyter-widgets/base",
     "model_module_version": "1.2.0",
     "model_name": "LayoutModel",
     "state": {
      "_model_module": "@jupyter-widgets/base",
      "_model_module_version": "1.2.0",
      "_model_name": "LayoutModel",
      "_view_count": null,
      "_view_module": "@jupyter-widgets/base",
      "_view_module_version": "1.2.0",
      "_view_name": "LayoutView",
      "align_content": null,
      "align_items": null,
      "align_self": null,
      "border": null,
      "bottom": null,
      "display": null,
      "flex": null,
      "flex_flow": null,
      "grid_area": null,
      "grid_auto_columns": null,
      "grid_auto_flow": null,
      "grid_auto_rows": null,
      "grid_column": null,
      "grid_gap": null,
      "grid_row": null,
      "grid_template_areas": null,
      "grid_template_columns": null,
      "grid_template_rows": null,
      "height": null,
      "justify_content": null,
      "justify_items": null,
      "left": null,
      "margin": null,
      "max_height": null,
      "max_width": null,
      "min_height": null,
      "min_width": null,
      "object_fit": null,
      "object_position": null,
      "order": null,
      "overflow": null,
      "overflow_x": null,
      "overflow_y": null,
      "padding": null,
      "right": null,
      "top": null,
      "visibility": null,
      "width": null
     }
    },
    "5fcf907ab7f94cdab85842f12020eade": {
     "model_module": "@jupyter-widgets/controls",
     "model_module_version": "1.5.0",
     "model_name": "FloatProgressModel",
     "state": {
      "_dom_classes": [],
      "_model_module": "@jupyter-widgets/controls",
      "_model_module_version": "1.5.0",
      "_model_name": "FloatProgressModel",
      "_view_count": null,
      "_view_module": "@jupyter-widgets/controls",
      "_view_module_version": "1.5.0",
      "_view_name": "ProgressView",
      "bar_style": "danger",
      "description": "",
      "description_tooltip": null,
      "layout": "IPY_MODEL_a7b9b6a20c42402fa4d1831bd4f76339",
      "max": 120000,
      "min": 0,
      "orientation": "horizontal",
      "style": "IPY_MODEL_3c40e5f2facf480ca99447ea201736b0",
      "value": 119999
     }
    },
    "61ee69512ad343bda82950b14259c593": {
     "model_module": "@jupyter-widgets/base",
     "model_module_version": "1.2.0",
     "model_name": "LayoutModel",
     "state": {
      "_model_module": "@jupyter-widgets/base",
      "_model_module_version": "1.2.0",
      "_model_name": "LayoutModel",
      "_view_count": null,
      "_view_module": "@jupyter-widgets/base",
      "_view_module_version": "1.2.0",
      "_view_name": "LayoutView",
      "align_content": null,
      "align_items": null,
      "align_self": null,
      "border": null,
      "bottom": null,
      "display": null,
      "flex": null,
      "flex_flow": null,
      "grid_area": null,
      "grid_auto_columns": null,
      "grid_auto_flow": null,
      "grid_auto_rows": null,
      "grid_column": null,
      "grid_gap": null,
      "grid_row": null,
      "grid_template_areas": null,
      "grid_template_columns": null,
      "grid_template_rows": null,
      "height": null,
      "justify_content": null,
      "justify_items": null,
      "left": null,
      "margin": null,
      "max_height": null,
      "max_width": null,
      "min_height": null,
      "min_width": null,
      "object_fit": null,
      "object_position": null,
      "order": null,
      "overflow": null,
      "overflow_x": null,
      "overflow_y": null,
      "padding": null,
      "right": null,
      "top": null,
      "visibility": null,
      "width": null
     }
    },
    "64ebbfeca6ef4af3a56b8fa445357db7": {
     "model_module": "@jupyter-widgets/base",
     "model_module_version": "1.2.0",
     "model_name": "LayoutModel",
     "state": {
      "_model_module": "@jupyter-widgets/base",
      "_model_module_version": "1.2.0",
      "_model_name": "LayoutModel",
      "_view_count": null,
      "_view_module": "@jupyter-widgets/base",
      "_view_module_version": "1.2.0",
      "_view_name": "LayoutView",
      "align_content": null,
      "align_items": null,
      "align_self": null,
      "border": null,
      "bottom": null,
      "display": null,
      "flex": null,
      "flex_flow": null,
      "grid_area": null,
      "grid_auto_columns": null,
      "grid_auto_flow": null,
      "grid_auto_rows": null,
      "grid_column": null,
      "grid_gap": null,
      "grid_row": null,
      "grid_template_areas": null,
      "grid_template_columns": null,
      "grid_template_rows": null,
      "height": null,
      "justify_content": null,
      "justify_items": null,
      "left": null,
      "margin": null,
      "max_height": null,
      "max_width": null,
      "min_height": null,
      "min_width": null,
      "object_fit": null,
      "object_position": null,
      "order": null,
      "overflow": null,
      "overflow_x": null,
      "overflow_y": null,
      "padding": null,
      "right": null,
      "top": null,
      "visibility": null,
      "width": null
     }
    },
    "68a67414ddd14c52afecafa0b56acf16": {
     "model_module": "@jupyter-widgets/controls",
     "model_module_version": "1.5.0",
     "model_name": "HTMLModel",
     "state": {
      "_dom_classes": [],
      "_model_module": "@jupyter-widgets/controls",
      "_model_module_version": "1.5.0",
      "_model_name": "HTMLModel",
      "_view_count": null,
      "_view_module": "@jupyter-widgets/controls",
      "_view_module_version": "1.5.0",
      "_view_name": "HTMLView",
      "description": "",
      "description_tooltip": null,
      "layout": "IPY_MODEL_01ca6cc0ece14334991860cdd3842825",
      "placeholder": "​",
      "style": "IPY_MODEL_fef5a9d6a6e24e33a52701bba2d85369",
      "value": " 119999/120000 [00:00&lt;00:00, 274643.01 examples/s]"
     }
    },
    "6e359d730e4b42e991f043617fd6e683": {
     "model_module": "@jupyter-widgets/base",
     "model_module_version": "1.2.0",
     "model_name": "LayoutModel",
     "state": {
      "_model_module": "@jupyter-widgets/base",
      "_model_module_version": "1.2.0",
      "_model_name": "LayoutModel",
      "_view_count": null,
      "_view_module": "@jupyter-widgets/base",
      "_view_module_version": "1.2.0",
      "_view_name": "LayoutView",
      "align_content": null,
      "align_items": null,
      "align_self": null,
      "border": null,
      "bottom": null,
      "display": null,
      "flex": null,
      "flex_flow": null,
      "grid_area": null,
      "grid_auto_columns": null,
      "grid_auto_flow": null,
      "grid_auto_rows": null,
      "grid_column": null,
      "grid_gap": null,
      "grid_row": null,
      "grid_template_areas": null,
      "grid_template_columns": null,
      "grid_template_rows": null,
      "height": null,
      "justify_content": null,
      "justify_items": null,
      "left": null,
      "margin": null,
      "max_height": null,
      "max_width": null,
      "min_height": null,
      "min_width": null,
      "object_fit": null,
      "object_position": null,
      "order": null,
      "overflow": null,
      "overflow_x": null,
      "overflow_y": null,
      "padding": null,
      "right": null,
      "top": null,
      "visibility": null,
      "width": null
     }
    },
    "81ba7c7e2ec2473f873e7c23b739ae29": {
     "model_module": "@jupyter-widgets/base",
     "model_module_version": "1.2.0",
     "model_name": "LayoutModel",
     "state": {
      "_model_module": "@jupyter-widgets/base",
      "_model_module_version": "1.2.0",
      "_model_name": "LayoutModel",
      "_view_count": null,
      "_view_module": "@jupyter-widgets/base",
      "_view_module_version": "1.2.0",
      "_view_name": "LayoutView",
      "align_content": null,
      "align_items": null,
      "align_self": null,
      "border": null,
      "bottom": null,
      "display": null,
      "flex": null,
      "flex_flow": null,
      "grid_area": null,
      "grid_auto_columns": null,
      "grid_auto_flow": null,
      "grid_auto_rows": null,
      "grid_column": null,
      "grid_gap": null,
      "grid_row": null,
      "grid_template_areas": null,
      "grid_template_columns": null,
      "grid_template_rows": null,
      "height": null,
      "justify_content": null,
      "justify_items": null,
      "left": null,
      "margin": null,
      "max_height": null,
      "max_width": null,
      "min_height": null,
      "min_width": null,
      "object_fit": null,
      "object_position": null,
      "order": null,
      "overflow": null,
      "overflow_x": null,
      "overflow_y": null,
      "padding": null,
      "right": null,
      "top": null,
      "visibility": null,
      "width": "20px"
     }
    },
    "87d76cec9bc7469e8665ed0300a1197e": {
     "model_module": "@jupyter-widgets/controls",
     "model_module_version": "1.5.0",
     "model_name": "FloatProgressModel",
     "state": {
      "_dom_classes": [],
      "_model_module": "@jupyter-widgets/controls",
      "_model_module_version": "1.5.0",
      "_model_name": "FloatProgressModel",
      "_view_count": null,
      "_view_module": "@jupyter-widgets/controls",
      "_view_module_version": "1.5.0",
      "_view_name": "ProgressView",
      "bar_style": "success",
      "description": "",
      "description_tooltip": null,
      "layout": "IPY_MODEL_8b0066720747481f82e19290c76e25fe",
      "max": 1,
      "min": 0,
      "orientation": "horizontal",
      "style": "IPY_MODEL_d7b23a8284e9453f815f89209d74fb89",
      "value": 1
     }
    },
    "89917926e69b4e1bbad17d54ea722e65": {
     "model_module": "@jupyter-widgets/base",
     "model_module_version": "1.2.0",
     "model_name": "LayoutModel",
     "state": {
      "_model_module": "@jupyter-widgets/base",
      "_model_module_version": "1.2.0",
      "_model_name": "LayoutModel",
      "_view_count": null,
      "_view_module": "@jupyter-widgets/base",
      "_view_module_version": "1.2.0",
      "_view_name": "LayoutView",
      "align_content": null,
      "align_items": null,
      "align_self": null,
      "border": null,
      "bottom": null,
      "display": null,
      "flex": null,
      "flex_flow": null,
      "grid_area": null,
      "grid_auto_columns": null,
      "grid_auto_flow": null,
      "grid_auto_rows": null,
      "grid_column": null,
      "grid_gap": null,
      "grid_row": null,
      "grid_template_areas": null,
      "grid_template_columns": null,
      "grid_template_rows": null,
      "height": null,
      "justify_content": null,
      "justify_items": null,
      "left": null,
      "margin": null,
      "max_height": null,
      "max_width": null,
      "min_height": null,
      "min_width": null,
      "object_fit": null,
      "object_position": null,
      "order": null,
      "overflow": null,
      "overflow_x": null,
      "overflow_y": null,
      "padding": null,
      "right": null,
      "top": null,
      "visibility": null,
      "width": null
     }
    },
    "8a81944518be424aa73f639e957462e5": {
     "model_module": "@jupyter-widgets/base",
     "model_module_version": "1.2.0",
     "model_name": "LayoutModel",
     "state": {
      "_model_module": "@jupyter-widgets/base",
      "_model_module_version": "1.2.0",
      "_model_name": "LayoutModel",
      "_view_count": null,
      "_view_module": "@jupyter-widgets/base",
      "_view_module_version": "1.2.0",
      "_view_name": "LayoutView",
      "align_content": null,
      "align_items": null,
      "align_self": null,
      "border": null,
      "bottom": null,
      "display": null,
      "flex": null,
      "flex_flow": null,
      "grid_area": null,
      "grid_auto_columns": null,
      "grid_auto_flow": null,
      "grid_auto_rows": null,
      "grid_column": null,
      "grid_gap": null,
      "grid_row": null,
      "grid_template_areas": null,
      "grid_template_columns": null,
      "grid_template_rows": null,
      "height": null,
      "justify_content": null,
      "justify_items": null,
      "left": null,
      "margin": null,
      "max_height": null,
      "max_width": null,
      "min_height": null,
      "min_width": null,
      "object_fit": null,
      "object_position": null,
      "order": null,
      "overflow": null,
      "overflow_x": null,
      "overflow_y": null,
      "padding": null,
      "right": null,
      "top": null,
      "visibility": null,
      "width": null
     }
    },
    "8b0066720747481f82e19290c76e25fe": {
     "model_module": "@jupyter-widgets/base",
     "model_module_version": "1.2.0",
     "model_name": "LayoutModel",
     "state": {
      "_model_module": "@jupyter-widgets/base",
      "_model_module_version": "1.2.0",
      "_model_name": "LayoutModel",
      "_view_count": null,
      "_view_module": "@jupyter-widgets/base",
      "_view_module_version": "1.2.0",
      "_view_name": "LayoutView",
      "align_content": null,
      "align_items": null,
      "align_self": null,
      "border": null,
      "bottom": null,
      "display": null,
      "flex": null,
      "flex_flow": null,
      "grid_area": null,
      "grid_auto_columns": null,
      "grid_auto_flow": null,
      "grid_auto_rows": null,
      "grid_column": null,
      "grid_gap": null,
      "grid_row": null,
      "grid_template_areas": null,
      "grid_template_columns": null,
      "grid_template_rows": null,
      "height": null,
      "justify_content": null,
      "justify_items": null,
      "left": null,
      "margin": null,
      "max_height": null,
      "max_width": null,
      "min_height": null,
      "min_width": null,
      "object_fit": null,
      "object_position": null,
      "order": null,
      "overflow": null,
      "overflow_x": null,
      "overflow_y": null,
      "padding": null,
      "right": null,
      "top": null,
      "visibility": null,
      "width": "20px"
     }
    },
    "8e25830b20424c5ab7edd263f591245d": {
     "model_module": "@jupyter-widgets/controls",
     "model_module_version": "1.5.0",
     "model_name": "HTMLModel",
     "state": {
      "_dom_classes": [],
      "_model_module": "@jupyter-widgets/controls",
      "_model_module_version": "1.5.0",
      "_model_name": "HTMLModel",
      "_view_count": null,
      "_view_module": "@jupyter-widgets/controls",
      "_view_module_version": "1.5.0",
      "_view_name": "HTMLView",
      "description": "",
      "description_tooltip": null,
      "layout": "IPY_MODEL_ffe89142fb4c473a9ab5095eadad85f0",
      "placeholder": "​",
      "style": "IPY_MODEL_42e39bf3515f42a893f71877de0f1966",
      "value": " 7599/7600 [00:00&lt;00:00, 114179.07 examples/s]"
     }
    },
    "8eed9bf82e6146fe817220e37b6a0102": {
     "model_module": "@jupyter-widgets/controls",
     "model_module_version": "1.5.0",
     "model_name": "ProgressStyleModel",
     "state": {
      "_model_module": "@jupyter-widgets/controls",
      "_model_module_version": "1.5.0",
      "_model_name": "ProgressStyleModel",
      "_view_count": null,
      "_view_module": "@jupyter-widgets/base",
      "_view_module_version": "1.2.0",
      "_view_name": "StyleView",
      "bar_color": null,
      "description_width": ""
     }
    },
    "909864923de1420198a5b06e467fb014": {
     "model_module": "@jupyter-widgets/controls",
     "model_module_version": "1.5.0",
     "model_name": "HBoxModel",
     "state": {
      "_dom_classes": [],
      "_model_module": "@jupyter-widgets/controls",
      "_model_module_version": "1.5.0",
      "_model_name": "HBoxModel",
      "_view_count": null,
      "_view_module": "@jupyter-widgets/controls",
      "_view_module_version": "1.5.0",
      "_view_name": "HBoxView",
      "box_style": "",
      "children": [
       "IPY_MODEL_25c66373cbd14db39f112939de2db3a0",
       "IPY_MODEL_e7dc0298d02b414c9dc4bf3e8b77165a",
       "IPY_MODEL_9cda5e427c514132b04573e1d4d9787f"
      ],
      "layout": "IPY_MODEL_a37f020c7b3a45e5ac5172dd7f7baec8"
     }
    },
    "91271271711a47d9a60ee1dcf93a41fd": {
     "model_module": "@jupyter-widgets/controls",
     "model_module_version": "1.5.0",
     "model_name": "FloatProgressModel",
     "state": {
      "_dom_classes": [],
      "_model_module": "@jupyter-widgets/controls",
      "_model_module_version": "1.5.0",
      "_model_name": "FloatProgressModel",
      "_view_count": null,
      "_view_module": "@jupyter-widgets/controls",
      "_view_module_version": "1.5.0",
      "_view_name": "ProgressView",
      "bar_style": "info",
      "description": "",
      "description_tooltip": null,
      "layout": "IPY_MODEL_81ba7c7e2ec2473f873e7c23b739ae29",
      "max": 1,
      "min": 0,
      "orientation": "horizontal",
      "style": "IPY_MODEL_f6ab8b55de4443ebb332f7477c4e5f16",
      "value": 1
     }
    },
    "99e8e7da101c47eea04c390367faf4d3": {
     "model_module": "@jupyter-widgets/controls",
     "model_module_version": "1.5.0",
     "model_name": "HTMLModel",
     "state": {
      "_dom_classes": [],
      "_model_module": "@jupyter-widgets/controls",
      "_model_module_version": "1.5.0",
      "_model_name": "HTMLModel",
      "_view_count": null,
      "_view_module": "@jupyter-widgets/controls",
      "_view_module_version": "1.5.0",
      "_view_name": "HTMLView",
      "description": "",
      "description_tooltip": null,
      "layout": "IPY_MODEL_4f2aa4f03b2245c3af74fa117437c1ee",
      "placeholder": "​",
      "style": "IPY_MODEL_1a006d3d18fc4780916bbb50ca8280f4",
      "value": "Extraction completed...: 100%"
     }
    },
    "9cda5e427c514132b04573e1d4d9787f": {
     "model_module": "@jupyter-widgets/controls",
     "model_module_version": "1.5.0",
     "model_name": "HTMLModel",
     "state": {
      "_dom_classes": [],
      "_model_module": "@jupyter-widgets/controls",
      "_model_module_version": "1.5.0",
      "_model_name": "HTMLModel",
      "_view_count": null,
      "_view_module": "@jupyter-widgets/controls",
      "_view_module_version": "1.5.0",
      "_view_name": "HTMLView",
      "description": "",
      "description_tooltip": null,
      "layout": "IPY_MODEL_e8353c52a2d54bf580617d31973001fc",
      "placeholder": "​",
      "style": "IPY_MODEL_570a4efe44d943a8877127ab8e357ff0",
      "value": " 0/0 [00:00&lt;?, ? MiB/s]"
     }
    },
    "9f0d5330e9254fbcb30bd1792760715d": {
     "model_module": "@jupyter-widgets/base",
     "model_module_version": "1.2.0",
     "model_name": "LayoutModel",
     "state": {
      "_model_module": "@jupyter-widgets/base",
      "_model_module_version": "1.2.0",
      "_model_name": "LayoutModel",
      "_view_count": null,
      "_view_module": "@jupyter-widgets/base",
      "_view_module_version": "1.2.0",
      "_view_name": "LayoutView",
      "align_content": null,
      "align_items": null,
      "align_self": null,
      "border": null,
      "bottom": null,
      "display": null,
      "flex": null,
      "flex_flow": null,
      "grid_area": null,
      "grid_auto_columns": null,
      "grid_auto_flow": null,
      "grid_auto_rows": null,
      "grid_column": null,
      "grid_gap": null,
      "grid_row": null,
      "grid_template_areas": null,
      "grid_template_columns": null,
      "grid_template_rows": null,
      "height": null,
      "justify_content": null,
      "justify_items": null,
      "left": null,
      "margin": null,
      "max_height": null,
      "max_width": null,
      "min_height": null,
      "min_width": null,
      "object_fit": null,
      "object_position": null,
      "order": null,
      "overflow": null,
      "overflow_x": null,
      "overflow_y": null,
      "padding": null,
      "right": null,
      "top": null,
      "visibility": null,
      "width": "20px"
     }
    },
    "a24c109af0b94bbfb9422fa4ada00ef1": {
     "model_module": "@jupyter-widgets/controls",
     "model_module_version": "1.5.0",
     "model_name": "HBoxModel",
     "state": {
      "_dom_classes": [],
      "_model_module": "@jupyter-widgets/controls",
      "_model_module_version": "1.5.0",
      "_model_name": "HBoxModel",
      "_view_count": null,
      "_view_module": "@jupyter-widgets/controls",
      "_view_module_version": "1.5.0",
      "_view_name": "HBoxView",
      "box_style": "",
      "children": [
       "IPY_MODEL_99e8e7da101c47eea04c390367faf4d3",
       "IPY_MODEL_87d76cec9bc7469e8665ed0300a1197e",
       "IPY_MODEL_cda12a050211425398b968518cb35eef"
      ],
      "layout": "IPY_MODEL_3ba5ce44db1748bb94523cc2cf71f317"
     }
    },
    "a37f020c7b3a45e5ac5172dd7f7baec8": {
     "model_module": "@jupyter-widgets/base",
     "model_module_version": "1.2.0",
     "model_name": "LayoutModel",
     "state": {
      "_model_module": "@jupyter-widgets/base",
      "_model_module_version": "1.2.0",
      "_model_name": "LayoutModel",
      "_view_count": null,
      "_view_module": "@jupyter-widgets/base",
      "_view_module_version": "1.2.0",
      "_view_name": "LayoutView",
      "align_content": null,
      "align_items": null,
      "align_self": null,
      "border": null,
      "bottom": null,
      "display": null,
      "flex": null,
      "flex_flow": null,
      "grid_area": null,
      "grid_auto_columns": null,
      "grid_auto_flow": null,
      "grid_auto_rows": null,
      "grid_column": null,
      "grid_gap": null,
      "grid_row": null,
      "grid_template_areas": null,
      "grid_template_columns": null,
      "grid_template_rows": null,
      "height": null,
      "justify_content": null,
      "justify_items": null,
      "left": null,
      "margin": null,
      "max_height": null,
      "max_width": null,
      "min_height": null,
      "min_width": null,
      "object_fit": null,
      "object_position": null,
      "order": null,
      "overflow": null,
      "overflow_x": null,
      "overflow_y": null,
      "padding": null,
      "right": null,
      "top": null,
      "visibility": null,
      "width": null
     }
    },
    "a7b9b6a20c42402fa4d1831bd4f76339": {
     "model_module": "@jupyter-widgets/base",
     "model_module_version": "1.2.0",
     "model_name": "LayoutModel",
     "state": {
      "_model_module": "@jupyter-widgets/base",
      "_model_module_version": "1.2.0",
      "_model_name": "LayoutModel",
      "_view_count": null,
      "_view_module": "@jupyter-widgets/base",
      "_view_module_version": "1.2.0",
      "_view_name": "LayoutView",
      "align_content": null,
      "align_items": null,
      "align_self": null,
      "border": null,
      "bottom": null,
      "display": null,
      "flex": null,
      "flex_flow": null,
      "grid_area": null,
      "grid_auto_columns": null,
      "grid_auto_flow": null,
      "grid_auto_rows": null,
      "grid_column": null,
      "grid_gap": null,
      "grid_row": null,
      "grid_template_areas": null,
      "grid_template_columns": null,
      "grid_template_rows": null,
      "height": null,
      "justify_content": null,
      "justify_items": null,
      "left": null,
      "margin": null,
      "max_height": null,
      "max_width": null,
      "min_height": null,
      "min_width": null,
      "object_fit": null,
      "object_position": null,
      "order": null,
      "overflow": null,
      "overflow_x": null,
      "overflow_y": null,
      "padding": null,
      "right": null,
      "top": null,
      "visibility": null,
      "width": null
     }
    },
    "aa38c8069fc340df8ea2e64224656fe8": {
     "model_module": "@jupyter-widgets/controls",
     "model_module_version": "1.5.0",
     "model_name": "HTMLModel",
     "state": {
      "_dom_classes": [],
      "_model_module": "@jupyter-widgets/controls",
      "_model_module_version": "1.5.0",
      "_model_name": "HTMLModel",
      "_view_count": null,
      "_view_module": "@jupyter-widgets/controls",
      "_view_module_version": "1.5.0",
      "_view_name": "HTMLView",
      "description": "",
      "description_tooltip": null,
      "layout": "IPY_MODEL_35da004ab8134712a043b632b01f2bc4",
      "placeholder": "​",
      "style": "IPY_MODEL_ad7abc7a6a804f83b71f1513990b9903",
      "value": ""
     }
    },
    "ac400b330ab24fe1a00141061c5f2e8c": {
     "model_module": "@jupyter-widgets/base",
     "model_module_version": "1.2.0",
     "model_name": "LayoutModel",
     "state": {
      "_model_module": "@jupyter-widgets/base",
      "_model_module_version": "1.2.0",
      "_model_name": "LayoutModel",
      "_view_count": null,
      "_view_module": "@jupyter-widgets/base",
      "_view_module_version": "1.2.0",
      "_view_name": "LayoutView",
      "align_content": null,
      "align_items": null,
      "align_self": null,
      "border": null,
      "bottom": null,
      "display": null,
      "flex": null,
      "flex_flow": null,
      "grid_area": null,
      "grid_auto_columns": null,
      "grid_auto_flow": null,
      "grid_auto_rows": null,
      "grid_column": null,
      "grid_gap": null,
      "grid_row": null,
      "grid_template_areas": null,
      "grid_template_columns": null,
      "grid_template_rows": null,
      "height": null,
      "justify_content": null,
      "justify_items": null,
      "left": null,
      "margin": null,
      "max_height": null,
      "max_width": null,
      "min_height": null,
      "min_width": null,
      "object_fit": null,
      "object_position": null,
      "order": null,
      "overflow": null,
      "overflow_x": null,
      "overflow_y": null,
      "padding": null,
      "right": null,
      "top": null,
      "visibility": null,
      "width": "20px"
     }
    },
    "acbe17a497ea4227b677466d631d0ae1": {
     "model_module": "@jupyter-widgets/controls",
     "model_module_version": "1.5.0",
     "model_name": "DescriptionStyleModel",
     "state": {
      "_model_module": "@jupyter-widgets/controls",
      "_model_module_version": "1.5.0",
      "_model_name": "DescriptionStyleModel",
      "_view_count": null,
      "_view_module": "@jupyter-widgets/base",
      "_view_module_version": "1.2.0",
      "_view_name": "StyleView",
      "description_width": ""
     }
    },
    "ad7abc7a6a804f83b71f1513990b9903": {
     "model_module": "@jupyter-widgets/controls",
     "model_module_version": "1.5.0",
     "model_name": "DescriptionStyleModel",
     "state": {
      "_model_module": "@jupyter-widgets/controls",
      "_model_module_version": "1.5.0",
      "_model_name": "DescriptionStyleModel",
      "_view_count": null,
      "_view_module": "@jupyter-widgets/base",
      "_view_module_version": "1.2.0",
      "_view_name": "StyleView",
      "description_width": ""
     }
    },
    "ae9a0d6e90e14851afabd19028cee435": {
     "model_module": "@jupyter-widgets/controls",
     "model_module_version": "1.5.0",
     "model_name": "FloatProgressModel",
     "state": {
      "_dom_classes": [],
      "_model_module": "@jupyter-widgets/controls",
      "_model_module_version": "1.5.0",
      "_model_name": "FloatProgressModel",
      "_view_count": null,
      "_view_module": "@jupyter-widgets/controls",
      "_view_module_version": "1.5.0",
      "_view_name": "ProgressView",
      "bar_style": "info",
      "description": "",
      "description_tooltip": null,
      "layout": "IPY_MODEL_9f0d5330e9254fbcb30bd1792760715d",
      "max": 1,
      "min": 0,
      "orientation": "horizontal",
      "style": "IPY_MODEL_3b40c4d3ce764dccbf7b6b4847888096",
      "value": 1
     }
    },
    "b440b2fd7eca460db3df50802cfef9c9": {
     "model_module": "@jupyter-widgets/controls",
     "model_module_version": "1.5.0",
     "model_name": "HTMLModel",
     "state": {
      "_dom_classes": [],
      "_model_module": "@jupyter-widgets/controls",
      "_model_module_version": "1.5.0",
      "_model_name": "HTMLModel",
      "_view_count": null,
      "_view_module": "@jupyter-widgets/controls",
      "_view_module_version": "1.5.0",
      "_view_name": "HTMLView",
      "description": "",
      "description_tooltip": null,
      "layout": "IPY_MODEL_ea34f82cf207497098739c5cb7e1df87",
      "placeholder": "​",
      "style": "IPY_MODEL_ed463f2c0d5a4379a3dc7919c121af36",
      "value": "100%"
     }
    },
    "b471a94732774b1c9fbb5424c97586d5": {
     "model_module": "@jupyter-widgets/controls",
     "model_module_version": "1.5.0",
     "model_name": "FloatProgressModel",
     "state": {
      "_dom_classes": [],
      "_model_module": "@jupyter-widgets/controls",
      "_model_module_version": "1.5.0",
      "_model_name": "FloatProgressModel",
      "_view_count": null,
      "_view_module": "@jupyter-widgets/controls",
      "_view_module_version": "1.5.0",
      "_view_name": "ProgressView",
      "bar_style": "success",
      "description": "",
      "description_tooltip": null,
      "layout": "IPY_MODEL_04096a99372f418593105aec6035b1fc",
      "max": 1,
      "min": 0,
      "orientation": "horizontal",
      "style": "IPY_MODEL_8eed9bf82e6146fe817220e37b6a0102",
      "value": 0
     }
    },
    "b89012a0ee614b56aa65d45b56ff8247": {
     "model_module": "@jupyter-widgets/controls",
     "model_module_version": "1.5.0",
     "model_name": "DescriptionStyleModel",
     "state": {
      "_model_module": "@jupyter-widgets/controls",
      "_model_module_version": "1.5.0",
      "_model_name": "DescriptionStyleModel",
      "_view_count": null,
      "_view_module": "@jupyter-widgets/base",
      "_view_module_version": "1.2.0",
      "_view_name": "StyleView",
      "description_width": ""
     }
    },
    "b8e0a23ed6bf4411873b8edc1f5aaeee": {
     "model_module": "@jupyter-widgets/base",
     "model_module_version": "1.2.0",
     "model_name": "LayoutModel",
     "state": {
      "_model_module": "@jupyter-widgets/base",
      "_model_module_version": "1.2.0",
      "_model_name": "LayoutModel",
      "_view_count": null,
      "_view_module": "@jupyter-widgets/base",
      "_view_module_version": "1.2.0",
      "_view_name": "LayoutView",
      "align_content": null,
      "align_items": null,
      "align_self": null,
      "border": null,
      "bottom": null,
      "display": null,
      "flex": null,
      "flex_flow": null,
      "grid_area": null,
      "grid_auto_columns": null,
      "grid_auto_flow": null,
      "grid_auto_rows": null,
      "grid_column": null,
      "grid_gap": null,
      "grid_row": null,
      "grid_template_areas": null,
      "grid_template_columns": null,
      "grid_template_rows": null,
      "height": null,
      "justify_content": null,
      "justify_items": null,
      "left": null,
      "margin": null,
      "max_height": null,
      "max_width": null,
      "min_height": null,
      "min_width": null,
      "object_fit": null,
      "object_position": null,
      "order": null,
      "overflow": null,
      "overflow_x": null,
      "overflow_y": null,
      "padding": null,
      "right": null,
      "top": null,
      "visibility": null,
      "width": null
     }
    },
    "bb7aef0b52f54bcf846c77a5dfa39444": {
     "model_module": "@jupyter-widgets/controls",
     "model_module_version": "1.5.0",
     "model_name": "DescriptionStyleModel",
     "state": {
      "_model_module": "@jupyter-widgets/controls",
      "_model_module_version": "1.5.0",
      "_model_name": "DescriptionStyleModel",
      "_view_count": null,
      "_view_module": "@jupyter-widgets/base",
      "_view_module_version": "1.2.0",
      "_view_name": "StyleView",
      "description_width": ""
     }
    },
    "c3ab906e47a147cd8bb98126509d299c": {
     "model_module": "@jupyter-widgets/controls",
     "model_module_version": "1.5.0",
     "model_name": "HTMLModel",
     "state": {
      "_dom_classes": [],
      "_model_module": "@jupyter-widgets/controls",
      "_model_module_version": "1.5.0",
      "_model_name": "HTMLModel",
      "_view_count": null,
      "_view_module": "@jupyter-widgets/controls",
      "_view_module_version": "1.5.0",
      "_view_name": "HTMLView",
      "description": "",
      "description_tooltip": null,
      "layout": "IPY_MODEL_5d0a72dc6b4a4282972567573625c508",
      "placeholder": "​",
      "style": "IPY_MODEL_b89012a0ee614b56aa65d45b56ff8247",
      "value": " 0/0 [00:00&lt;?, ? url/s]"
     }
    },
    "c3b3bdaa667f477b9ed533bb73f9bd94": {
     "model_module": "@jupyter-widgets/controls",
     "model_module_version": "1.5.0",
     "model_name": "ProgressStyleModel",
     "state": {
      "_model_module": "@jupyter-widgets/controls",
      "_model_module_version": "1.5.0",
      "_model_name": "ProgressStyleModel",
      "_view_count": null,
      "_view_module": "@jupyter-widgets/base",
      "_view_module_version": "1.2.0",
      "_view_name": "StyleView",
      "bar_color": null,
      "description_width": ""
     }
    },
    "cc133ff92f384260bee7c87950f663fc": {
     "model_module": "@jupyter-widgets/controls",
     "model_module_version": "1.5.0",
     "model_name": "ProgressStyleModel",
     "state": {
      "_model_module": "@jupyter-widgets/controls",
      "_model_module_version": "1.5.0",
      "_model_name": "ProgressStyleModel",
      "_view_count": null,
      "_view_module": "@jupyter-widgets/base",
      "_view_module_version": "1.2.0",
      "_view_name": "StyleView",
      "bar_color": null,
      "description_width": ""
     }
    },
    "cda12a050211425398b968518cb35eef": {
     "model_module": "@jupyter-widgets/controls",
     "model_module_version": "1.5.0",
     "model_name": "HTMLModel",
     "state": {
      "_dom_classes": [],
      "_model_module": "@jupyter-widgets/controls",
      "_model_module_version": "1.5.0",
      "_model_name": "HTMLModel",
      "_view_count": null,
      "_view_module": "@jupyter-widgets/controls",
      "_view_module_version": "1.5.0",
      "_view_name": "HTMLView",
      "description": "",
      "description_tooltip": null,
      "layout": "IPY_MODEL_b8e0a23ed6bf4411873b8edc1f5aaeee",
      "placeholder": "​",
      "style": "IPY_MODEL_1ffc0415bc89483f9679d66e092aa916",
      "value": " 1/1 [00:00&lt;00:00,  2.16 file/s]"
     }
    },
    "cdc64fe644f2449bbd93e448e7016107": {
     "model_module": "@jupyter-widgets/controls",
     "model_module_version": "1.5.0",
     "model_name": "DescriptionStyleModel",
     "state": {
      "_model_module": "@jupyter-widgets/controls",
      "_model_module_version": "1.5.0",
      "_model_name": "DescriptionStyleModel",
      "_view_count": null,
      "_view_module": "@jupyter-widgets/base",
      "_view_module_version": "1.2.0",
      "_view_name": "StyleView",
      "description_width": ""
     }
    },
    "d4aaa5d1b96c432282ac4d2014ddedbe": {
     "model_module": "@jupyter-widgets/controls",
     "model_module_version": "1.5.0",
     "model_name": "DescriptionStyleModel",
     "state": {
      "_model_module": "@jupyter-widgets/controls",
      "_model_module_version": "1.5.0",
      "_model_name": "DescriptionStyleModel",
      "_view_count": null,
      "_view_module": "@jupyter-widgets/base",
      "_view_module_version": "1.2.0",
      "_view_name": "StyleView",
      "description_width": ""
     }
    },
    "d7b23a8284e9453f815f89209d74fb89": {
     "model_module": "@jupyter-widgets/controls",
     "model_module_version": "1.5.0",
     "model_name": "ProgressStyleModel",
     "state": {
      "_model_module": "@jupyter-widgets/controls",
      "_model_module_version": "1.5.0",
      "_model_name": "ProgressStyleModel",
      "_view_count": null,
      "_view_module": "@jupyter-widgets/base",
      "_view_module_version": "1.2.0",
      "_view_name": "StyleView",
      "bar_color": null,
      "description_width": ""
     }
    },
    "e69f17b9f00a44a9843609e7a4db545b": {
     "model_module": "@jupyter-widgets/controls",
     "model_module_version": "1.5.0",
     "model_name": "DescriptionStyleModel",
     "state": {
      "_model_module": "@jupyter-widgets/controls",
      "_model_module_version": "1.5.0",
      "_model_name": "DescriptionStyleModel",
      "_view_count": null,
      "_view_module": "@jupyter-widgets/base",
      "_view_module_version": "1.2.0",
      "_view_name": "StyleView",
      "description_width": ""
     }
    },
    "e7dc0298d02b414c9dc4bf3e8b77165a": {
     "model_module": "@jupyter-widgets/controls",
     "model_module_version": "1.5.0",
     "model_name": "FloatProgressModel",
     "state": {
      "_dom_classes": [],
      "_model_module": "@jupyter-widgets/controls",
      "_model_module_version": "1.5.0",
      "_model_name": "FloatProgressModel",
      "_view_count": null,
      "_view_module": "@jupyter-widgets/controls",
      "_view_module_version": "1.5.0",
      "_view_name": "ProgressView",
      "bar_style": "success",
      "description": "",
      "description_tooltip": null,
      "layout": "IPY_MODEL_ac400b330ab24fe1a00141061c5f2e8c",
      "max": 1,
      "min": 0,
      "orientation": "horizontal",
      "style": "IPY_MODEL_c3b3bdaa667f477b9ed533bb73f9bd94",
      "value": 0
     }
    },
    "e8353c52a2d54bf580617d31973001fc": {
     "model_module": "@jupyter-widgets/base",
     "model_module_version": "1.2.0",
     "model_name": "LayoutModel",
     "state": {
      "_model_module": "@jupyter-widgets/base",
      "_model_module_version": "1.2.0",
      "_model_name": "LayoutModel",
      "_view_count": null,
      "_view_module": "@jupyter-widgets/base",
      "_view_module_version": "1.2.0",
      "_view_name": "LayoutView",
      "align_content": null,
      "align_items": null,
      "align_self": null,
      "border": null,
      "bottom": null,
      "display": null,
      "flex": null,
      "flex_flow": null,
      "grid_area": null,
      "grid_auto_columns": null,
      "grid_auto_flow": null,
      "grid_auto_rows": null,
      "grid_column": null,
      "grid_gap": null,
      "grid_row": null,
      "grid_template_areas": null,
      "grid_template_columns": null,
      "grid_template_rows": null,
      "height": null,
      "justify_content": null,
      "justify_items": null,
      "left": null,
      "margin": null,
      "max_height": null,
      "max_width": null,
      "min_height": null,
      "min_width": null,
      "object_fit": null,
      "object_position": null,
      "order": null,
      "overflow": null,
      "overflow_x": null,
      "overflow_y": null,
      "padding": null,
      "right": null,
      "top": null,
      "visibility": null,
      "width": null
     }
    },
    "ea34f82cf207497098739c5cb7e1df87": {
     "model_module": "@jupyter-widgets/base",
     "model_module_version": "1.2.0",
     "model_name": "LayoutModel",
     "state": {
      "_model_module": "@jupyter-widgets/base",
      "_model_module_version": "1.2.0",
      "_model_name": "LayoutModel",
      "_view_count": null,
      "_view_module": "@jupyter-widgets/base",
      "_view_module_version": "1.2.0",
      "_view_name": "LayoutView",
      "align_content": null,
      "align_items": null,
      "align_self": null,
      "border": null,
      "bottom": null,
      "display": null,
      "flex": null,
      "flex_flow": null,
      "grid_area": null,
      "grid_auto_columns": null,
      "grid_auto_flow": null,
      "grid_auto_rows": null,
      "grid_column": null,
      "grid_gap": null,
      "grid_row": null,
      "grid_template_areas": null,
      "grid_template_columns": null,
      "grid_template_rows": null,
      "height": null,
      "justify_content": null,
      "justify_items": null,
      "left": null,
      "margin": null,
      "max_height": null,
      "max_width": null,
      "min_height": null,
      "min_width": null,
      "object_fit": null,
      "object_position": null,
      "order": null,
      "overflow": null,
      "overflow_x": null,
      "overflow_y": null,
      "padding": null,
      "right": null,
      "top": null,
      "visibility": null,
      "width": null
     }
    },
    "ed463f2c0d5a4379a3dc7919c121af36": {
     "model_module": "@jupyter-widgets/controls",
     "model_module_version": "1.5.0",
     "model_name": "DescriptionStyleModel",
     "state": {
      "_model_module": "@jupyter-widgets/controls",
      "_model_module_version": "1.5.0",
      "_model_name": "DescriptionStyleModel",
      "_view_count": null,
      "_view_module": "@jupyter-widgets/base",
      "_view_module_version": "1.2.0",
      "_view_name": "StyleView",
      "description_width": ""
     }
    },
    "f18626ec8a544a11b6082ac165c6ae5a": {
     "model_module": "@jupyter-widgets/controls",
     "model_module_version": "1.5.0",
     "model_name": "HBoxModel",
     "state": {
      "_dom_classes": [],
      "_model_module": "@jupyter-widgets/controls",
      "_model_module_version": "1.5.0",
      "_model_name": "HBoxModel",
      "_view_count": null,
      "_view_module": "@jupyter-widgets/controls",
      "_view_module_version": "1.5.0",
      "_view_name": "HBoxView",
      "box_style": "",
      "children": [
       "IPY_MODEL_03de3f8a728b499cb4995ed549bfb5c1",
       "IPY_MODEL_b471a94732774b1c9fbb5424c97586d5",
       "IPY_MODEL_c3ab906e47a147cd8bb98126509d299c"
      ],
      "layout": "IPY_MODEL_4a42ed23aca544138ebae835e80a979c"
     }
    },
    "f6ab8b55de4443ebb332f7477c4e5f16": {
     "model_module": "@jupyter-widgets/controls",
     "model_module_version": "1.5.0",
     "model_name": "ProgressStyleModel",
     "state": {
      "_model_module": "@jupyter-widgets/controls",
      "_model_module_version": "1.5.0",
      "_model_name": "ProgressStyleModel",
      "_view_count": null,
      "_view_module": "@jupyter-widgets/base",
      "_view_module_version": "1.2.0",
      "_view_name": "StyleView",
      "bar_color": null,
      "description_width": ""
     }
    },
    "f98b79b1601549e48f84c6716e29d570": {
     "model_module": "@jupyter-widgets/base",
     "model_module_version": "1.2.0",
     "model_name": "LayoutModel",
     "state": {
      "_model_module": "@jupyter-widgets/base",
      "_model_module_version": "1.2.0",
      "_model_name": "LayoutModel",
      "_view_count": null,
      "_view_module": "@jupyter-widgets/base",
      "_view_module_version": "1.2.0",
      "_view_name": "LayoutView",
      "align_content": null,
      "align_items": null,
      "align_self": null,
      "border": null,
      "bottom": null,
      "display": null,
      "flex": null,
      "flex_flow": null,
      "grid_area": null,
      "grid_auto_columns": null,
      "grid_auto_flow": null,
      "grid_auto_rows": null,
      "grid_column": null,
      "grid_gap": null,
      "grid_row": null,
      "grid_template_areas": null,
      "grid_template_columns": null,
      "grid_template_rows": null,
      "height": null,
      "justify_content": null,
      "justify_items": null,
      "left": null,
      "margin": null,
      "max_height": null,
      "max_width": null,
      "min_height": null,
      "min_width": null,
      "object_fit": null,
      "object_position": null,
      "order": null,
      "overflow": null,
      "overflow_x": null,
      "overflow_y": null,
      "padding": null,
      "right": null,
      "top": null,
      "visibility": null,
      "width": null
     }
    },
    "fef5a9d6a6e24e33a52701bba2d85369": {
     "model_module": "@jupyter-widgets/controls",
     "model_module_version": "1.5.0",
     "model_name": "DescriptionStyleModel",
     "state": {
      "_model_module": "@jupyter-widgets/controls",
      "_model_module_version": "1.5.0",
      "_model_name": "DescriptionStyleModel",
      "_view_count": null,
      "_view_module": "@jupyter-widgets/base",
      "_view_module_version": "1.2.0",
      "_view_name": "StyleView",
      "description_width": ""
     }
    },
    "ffe89142fb4c473a9ab5095eadad85f0": {
     "model_module": "@jupyter-widgets/base",
     "model_module_version": "1.2.0",
     "model_name": "LayoutModel",
     "state": {
      "_model_module": "@jupyter-widgets/base",
      "_model_module_version": "1.2.0",
      "_model_name": "LayoutModel",
      "_view_count": null,
      "_view_module": "@jupyter-widgets/base",
      "_view_module_version": "1.2.0",
      "_view_name": "LayoutView",
      "align_content": null,
      "align_items": null,
      "align_self": null,
      "border": null,
      "bottom": null,
      "display": null,
      "flex": null,
      "flex_flow": null,
      "grid_area": null,
      "grid_auto_columns": null,
      "grid_auto_flow": null,
      "grid_auto_rows": null,
      "grid_column": null,
      "grid_gap": null,
      "grid_row": null,
      "grid_template_areas": null,
      "grid_template_columns": null,
      "grid_template_rows": null,
      "height": null,
      "justify_content": null,
      "justify_items": null,
      "left": null,
      "margin": null,
      "max_height": null,
      "max_width": null,
      "min_height": null,
      "min_width": null,
      "object_fit": null,
      "object_position": null,
      "order": null,
      "overflow": null,
      "overflow_x": null,
      "overflow_y": null,
      "padding": null,
      "right": null,
      "top": null,
      "visibility": null,
      "width": null
     }
    }
   }
  }
 },
 "nbformat": 4,
 "nbformat_minor": 1
}
